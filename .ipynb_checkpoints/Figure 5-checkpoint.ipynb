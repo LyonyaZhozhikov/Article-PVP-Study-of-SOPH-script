{
 "cells": [
  {
   "cell_type": "markdown",
   "id": "3715c598",
   "metadata": {},
   "source": [
    "# Contact site aa ZW10, in close proximity = 13 A"
   ]
  },
  {
   "cell_type": "code",
   "execution_count": 2,
   "id": "cc4de36c",
   "metadata": {},
   "outputs": [
    {
     "name": "stdout",
     "output_type": "stream",
     "text": [
      "Unique Amino Acids Sorted in Increasing Order:\n",
      "[1305, 1307, 1308, 1309, 1310, 1311, 1313, 1315, 1316, 1319, 1320, 1323, 1334, 1335, 1336, 1337, 1338, 1339, 1340, 1341, 1342, 1343, 1344, 1345, 1346, 1347, 1348, 1349, 1350, 1351, 1352, 1353, 1354, 1355, 1356, 1357, 1358, 1359, 1360, 1361, 1362, 1364, 1365, 1464, 1466, 1467, 1468, 1469, 1470, 1471, 1472, 1473, 1474, 1475, 1476, 1477, 1478, 1479, 1480, 1481, 1482, 1483, 1484, 1485, 1487, 1488, 1489, 1490, 1491, 1492, 1493, 1494, 1495, 1496, 1497, 1498, 1499, 1500, 1501, 1502, 1503, 1504, 1505, 1506, 1507, 1508, 1509, 1510, 1511, 1512, 1513, 1514, 1515, 1516, 1517, 1518, 1519, 1520, 1521, 1522, 1523, 1524, 1525, 1526, 1527, 1528, 1529, 1530, 1532, 1533, 1535, 1536, 1537, 1539, 1540, 1541, 1542, 1543, 1544, 1545, 1546, 1547, 1548, 1549, 1550, 1551, 1552, 1553, 1554, 1556, 1557, 1565, 1566, 1567, 1568, 1569, 1570, 1571, 1572, 1573, 1574, 1575, 1576, 1577, 1579, 1580, 1581, 1582, 1583, 1584, 1585, 1586, 1587, 1588, 1589, 1590, 1591, 1592, 1593, 1594, 1595, 1596, 1597, 1598, 1599, 1600, 1601, 1602, 1603, 1604, 1605, 1606, 1607, 1608, 1609, 1610, 1611, 1612, 1613, 1614, 1615, 1616, 1617, 1618, 1619, 1620, 1621, 1622, 1624, 1625, 1629, 1635, 1636, 1638, 1639, 1640, 1641, 1642, 1643, 1644, 1645, 1646, 1647, 1648, 1649, 1650, 1651, 1657, 1661, 1681, 1684, 1685, 1686, 1687, 1688, 1689, 1691, 1692]\n"
     ]
    }
   ],
   "source": [
    "import pandas as pd\n",
    "# Define the paths to your files\n",
    "file_paths = [\n",
    "    \"C:\\\\Users\\\\jlr10\\\\OneDrive - North-Eastern Federal University in Yakutsk\\\\A-IM-G(20)\\\\Кандидатская диссертация\\\\Статья генотип-белок\\\\Методы\\\\AFM\\\\1_NRZ\\\\ZW10-NBAS\\\\interchain_contact\\\\interchain_contact-rank_0-query_1-query_2.tsv\",\n",
    "    \"C:\\\\Users\\\\jlr10\\\\OneDrive - North-Eastern Federal University in Yakutsk\\\\A-IM-G(20)\\\\Кандидатская диссертация\\\\Статья генотип-белок\\\\Методы\\\\AFM\\\\1_NRZ\\\\ZW10-NBAS\\\\interchain_contact\\\\interchain_contact-rank_1-query_1-query_2.tsv\",\n",
    "    \"C:\\\\Users\\\\jlr10\\\\OneDrive - North-Eastern Federal University in Yakutsk\\\\A-IM-G(20)\\\\Кандидатская диссертация\\\\Статья генотип-белок\\\\Методы\\\\AFM\\\\1_NRZ\\\\ZW10-NBAS\\\\interchain_contact\\\\interchain_contact-rank_2-query_1-query_2.tsv\",\n",
    "    \"C:\\\\Users\\\\jlr10\\\\OneDrive - North-Eastern Federal University in Yakutsk\\\\A-IM-G(20)\\\\Кандидатская диссертация\\\\Статья генотип-белок\\\\Методы\\\\AFM\\\\1_NRZ\\\\ZW10-NBAS\\\\interchain_contact\\\\interchain_contact-rank_3-query_1-query_2.tsv\",\n",
    "    \"C:\\\\Users\\\\jlr10\\\\OneDrive - North-Eastern Federal University in Yakutsk\\\\A-IM-G(20)\\\\Кандидатская диссертация\\\\Статья генотип-белок\\\\Методы\\\\AFM\\\\1_NRZ\\\\ZW10-NBAS\\\\interchain_contact\\\\interchain_contact-rank_4-query_1-query_2.tsv\",\n",
    "]\n",
    "\n",
    "# Load the data from each file into a DataFrame\n",
    "dfs = [pd.read_csv(file_path, delimiter='\\t', index_col=0) for file_path in file_paths]\n",
    "\n",
    "# Load the first file into a DataFrame\n",
    "df = pd.read_csv(file_paths[0], delimiter='\\t', index_col=0)\n",
    "\n",
    "# Extract the labels from the index\n",
    "labels = df.index.values\n",
    "\n",
    "# Concatenate all DataFrames along a new axis and calculate the mean\n",
    "df_mean = pd.concat(dfs, axis=0).groupby(level=0).mean()\n",
    "\n",
    "# Sort the index of the DataFrame\n",
    "df_mean = df_mean.sort_index()\n",
    "\n",
    "# Sort the DataFrame according to the extracted labels\n",
    "df_mean = df_mean.reindex(labels)\n",
    "\n",
    "# Define a threshold distance\n",
    "threshold_distance = 13\n",
    "\n",
    "# Initialize an empty set to collect unique amino acids\n",
    "unique_amino_acids = set()\n",
    "\n",
    "# Iterate over the rows of the DataFrame\n",
    "for index, row in df_mean.iterrows():\n",
    "    # Iterate over the distances in the row\n",
    "    for column, distance in row.items():\n",
    "        # Check if the distance is closer than the threshold\n",
    "        if distance < threshold_distance:\n",
    "            # Split the column name to extract the amino acid sequences\n",
    "            amino_acids = column.split('|')\n",
    "            # Add the first amino acid to the set\n",
    "            unique_amino_acids.add(int(amino_acids[0])+1171) # cuz it adds and starts to 0 value in python\n",
    "\n",
    "# Convert the set to a sorted list\n",
    "sorted_unique_amino_acids = sorted(unique_amino_acids)\n",
    "\n",
    "# Print the sorted list of unique amino acids\n",
    "print(\"Unique Amino Acids Sorted in Increasing Order:\")\n",
    "print(sorted_unique_amino_acids)"
   ]
  },
  {
   "cell_type": "markdown",
   "id": "21f0f4d5",
   "metadata": {},
   "source": [
    "# Contact site aa USE1, in close proximity = 13 A"
   ]
  },
  {
   "cell_type": "code",
   "execution_count": 4,
   "id": "c98033d8",
   "metadata": {},
   "outputs": [
    {
     "name": "stdout",
     "output_type": "stream",
     "text": [
      "Unique Amino Acids Sorted in Increasing Order:\n",
      "[727, 730, 731, 732, 733, 734, 735, 736, 737, 761, 762, 763, 764, 765, 766, 767, 768, 771, 821, 822, 824, 825, 826, 852, 853, 854, 855, 856, 857, 858, 859, 860, 861, 862, 863, 864, 865, 888, 889, 890, 891, 892, 893, 894, 895, 896, 897, 898, 899, 900, 901, 902, 903, 921, 926]\n"
     ]
    }
   ],
   "source": [
    "import pandas as pd\n",
    "\n",
    "# Define the paths to your files\n",
    "file_paths = [\n",
    "    \"C:\\\\Users\\\\jlr10\\\\OneDrive - North-Eastern Federal University in Yakutsk\\\\A-IM-G(20)\\\\Кандидатская диссертация\\\\Статья генотип-белок\\\\Методы\\\\AFM\\\\1_NRZ\\\\USE1_NBAS\\\\interchain_contact\\\\interchain_contact-rank_0-query_1-query_2.tsv\",\n",
    "    \"C:\\\\Users\\\\jlr10\\\\OneDrive - North-Eastern Federal University in Yakutsk\\\\A-IM-G(20)\\\\Кандидатская диссертация\\\\Статья генотип-белок\\\\Методы\\\\AFM\\\\1_NRZ\\\\USE1_NBAS\\\\interchain_contact\\\\interchain_contact-rank_1-query_1-query_2.tsv\",\n",
    "    \"C:\\\\Users\\\\jlr10\\\\OneDrive - North-Eastern Federal University in Yakutsk\\\\A-IM-G(20)\\\\Кандидатская диссертация\\\\Статья генотип-белок\\\\Методы\\\\AFM\\\\1_NRZ\\\\USE1_NBAS\\\\interchain_contact\\\\interchain_contact-rank_2-query_1-query_2.tsv\",\n",
    "    \"C:\\\\Users\\\\jlr10\\\\OneDrive - North-Eastern Federal University in Yakutsk\\\\A-IM-G(20)\\\\Кандидатская диссертация\\\\Статья генотип-белок\\\\Методы\\\\AFM\\\\1_NRZ\\\\USE1_NBAS\\\\interchain_contact\\\\interchain_contact-rank_3-query_1-query_2.tsv\",\n",
    "    \"C:\\\\Users\\\\jlr10\\\\OneDrive - North-Eastern Federal University in Yakutsk\\\\A-IM-G(20)\\\\Кандидатская диссертация\\\\Статья генотип-белок\\\\Методы\\\\AFM\\\\1_NRZ\\\\USE1_NBAS\\\\interchain_contact\\\\interchain_contact-rank_4-query_1-query_2.tsv\",\n",
    "]\n",
    "\n",
    "# Load the data from each file into a DataFrame\n",
    "dfs = [pd.read_csv(file_path, delimiter='\\t', index_col=0) for file_path in file_paths]\n",
    "\n",
    "# Load the first file into a DataFrame\n",
    "df = pd.read_csv(file_paths[0], delimiter='\\t', index_col=0)\n",
    "\n",
    "# Extract the labels from the index\n",
    "labels = df.index.values\n",
    "\n",
    "# Concatenate all DataFrames along a new axis and calculate the mean\n",
    "df_mean = pd.concat(dfs, axis=0).groupby(level=0).mean()\n",
    "\n",
    "# Sort the index of the DataFrame\n",
    "df_mean = df_mean.sort_index()\n",
    "\n",
    "# Sort the DataFrame according to the extracted labels\n",
    "df_mean = df_mean.reindex(labels)\n",
    "\n",
    "\n",
    "# Define a threshold distance\n",
    "threshold_distance = 13\n",
    "\n",
    "# Initialize an empty set to collect unique amino acids\n",
    "unique_amino_acids = set()\n",
    "\n",
    "# Iterate over the rows of the DataFrame\n",
    "for index, row in df_mean.iterrows():\n",
    "    # Iterate over the distances in the row\n",
    "    for column, distance in row.items():\n",
    "        # Check if the distance is closer than the threshold\n",
    "        if distance < threshold_distance:\n",
    "            # Split the column name to extract the amino acid sequences\n",
    "            amino_acids = column.split('|')\n",
    "            # Add the first amino acid to the set\n",
    "            unique_amino_acids.add(int(amino_acids[0]))\n",
    "\n",
    "# Convert the set to a sorted list\n",
    "sorted_unique_amino_acids = sorted(unique_amino_acids)\n",
    "\n",
    "# Print the sorted list of unique amino acids\n",
    "print(\"Unique Amino Acids Sorted in Increasing Order:\")\n",
    "print(sorted_unique_amino_acids)\n"
   ]
  },
  {
   "cell_type": "markdown",
   "id": "90f9b297",
   "metadata": {},
   "source": [
    "# Contact site aa RAB18, in close proximity = 13 A"
   ]
  },
  {
   "cell_type": "code",
   "execution_count": 5,
   "id": "6ce7c517",
   "metadata": {},
   "outputs": [
    {
     "name": "stdout",
     "output_type": "stream",
     "text": [
      "Unique Amino Acids Sorted in Increasing Order:\n",
      "[1077, 1078, 1081, 1082, 1085, 1128, 1130, 1176, 1179, 1180, 1181, 1182, 1183, 1184, 1185, 1186, 1190, 1192, 1231, 1232, 1233, 1234, 1236, 1237]\n"
     ]
    }
   ],
   "source": [
    "import seaborn as sns\n",
    "import matplotlib.pyplot as plt\n",
    "from matplotlib.colors import LinearSegmentedColormap\n",
    "import pandas as pd\n",
    "import numpy as np\n",
    "\n",
    "# Define the paths to your files\n",
    "file_paths = [\n",
    "    \"C:\\\\Users\\\\jlr10\\\\OneDrive - North-Eastern Federal University in Yakutsk\\\\A-IM-G(20)\\\\Кандидатская диссертация\\\\Статья генотип-белок\\\\Методы\\\\AFM\\\\2_NRZ_Rab18\\\\ZW10_Rab18_Sec39NBAS\\\\interchain_contact\\\\interchain_contact-rank_0-query_1-query_3.tsv\",\n",
    "    \"C:\\\\Users\\\\jlr10\\\\OneDrive - North-Eastern Federal University in Yakutsk\\\\A-IM-G(20)\\\\Кандидатская диссертация\\\\Статья генотип-белок\\\\Методы\\\\AFM\\\\2_NRZ_Rab18\\\\ZW10_Rab18_Sec39NBAS\\\\interchain_contact\\\\interchain_contact-rank_1-query_1-query_3.tsv\",\n",
    "    \"C:\\\\Users\\\\jlr10\\\\OneDrive - North-Eastern Federal University in Yakutsk\\\\A-IM-G(20)\\\\Кандидатская диссертация\\\\Статья генотип-белок\\\\Методы\\\\AFM\\\\2_NRZ_Rab18\\\\ZW10_Rab18_Sec39NBAS\\\\interchain_contact\\\\interchain_contact-rank_2-query_1-query_3.tsv\",\n",
    "    \"C:\\\\Users\\\\jlr10\\\\OneDrive - North-Eastern Federal University in Yakutsk\\\\A-IM-G(20)\\\\Кандидатская диссертация\\\\Статья генотип-белок\\\\Методы\\\\AFM\\\\2_NRZ_Rab18\\\\ZW10_Rab18_Sec39NBAS\\\\interchain_contact\\\\interchain_contact-rank_3-query_1-query_3.tsv\",\n",
    "    \"C:\\\\Users\\\\jlr10\\\\OneDrive - North-Eastern Federal University in Yakutsk\\\\A-IM-G(20)\\\\Кандидатская диссертация\\\\Статья генотип-белок\\\\Методы\\\\AFM\\\\2_NRZ_Rab18\\\\ZW10_Rab18_Sec39NBAS\\\\interchain_contact\\\\interchain_contact-rank_4-query_1-query_3.tsv\",\n",
    "]\n",
    "\n",
    "# Load the data from each file into a DataFrame\n",
    "dfs = [pd.read_csv(file_path, delimiter='\\t', index_col=0) for file_path in file_paths]\n",
    "\n",
    "# Load the first file into a DataFrame\n",
    "df = pd.read_csv(file_paths[0], delimiter='\\t', index_col=0)\n",
    "\n",
    "# Extract the labels from the index\n",
    "labels = df.index.values\n",
    "\n",
    "# Concatenate all DataFrames along a new axis and calculate the mean\n",
    "df_mean = pd.concat(dfs, axis=0).groupby(level=0).mean()\n",
    "\n",
    "# Sort the index of the DataFrame\n",
    "df_mean = df_mean.sort_index()\n",
    "\n",
    "# Sort the DataFrame according to the extracted labels\n",
    "df_mean = df_mean.reindex(labels)\n",
    "\n",
    "# Select the subset of data\n",
    "# df_zoom = df_mean.iloc[row_range, col_range]\n",
    "df_zoom = df_mean\n",
    "\n",
    "# Define a threshold distance\n",
    "threshold_distance = 13\n",
    "\n",
    "# Initialize an empty set to collect unique amino acids\n",
    "unique_amino_acids = set()\n",
    "\n",
    "# Iterate over the rows of the DataFrame\n",
    "for index, row in df_mean.iterrows():\n",
    "    # Iterate over the distances in the row\n",
    "    for column, distance in row.items():\n",
    "        # Check if the distance is closer than the threshold\n",
    "        if distance < threshold_distance:\n",
    "            # Split the column name to extract the amino acid sequences\n",
    "            amino_acids = column.split('|')\n",
    "            # Add the first amino acid to the set\n",
    "            unique_amino_acids.add(int(amino_acids[0])+699)\n",
    "\n",
    "# Convert the set to a sorted list\n",
    "sorted_unique_amino_acids = sorted(unique_amino_acids)\n",
    "\n",
    "# Print the sorted list of unique amino acids\n",
    "print(\"Unique Amino Acids Sorted in Increasing Order:\")\n",
    "print(sorted_unique_amino_acids)\n"
   ]
  },
  {
   "cell_type": "markdown",
   "id": "fd41cf2d",
   "metadata": {},
   "source": [
    "# Contact site aa UPF3B, in close proximity = 13 A"
   ]
  },
  {
   "cell_type": "code",
   "execution_count": 6,
   "id": "7064608f",
   "metadata": {},
   "outputs": [
    {
     "name": "stdout",
     "output_type": "stream",
     "text": [
      "Unique Amino Acids Sorted in Increasing Order:\n",
      "[1652, 1653, 1654, 1655, 1656, 1666, 1669, 1670, 1672, 1673, 1674, 1676, 1703, 1706, 1707, 1710, 1711, 1746]\n"
     ]
    }
   ],
   "source": [
    "import seaborn as sns\n",
    "import matplotlib.pyplot as plt\n",
    "from matplotlib.colors import LinearSegmentedColormap\n",
    "import pandas as pd\n",
    "import numpy as np\n",
    "\n",
    "# Define the paths to your files\n",
    "file_paths = [\n",
    "    \"C:\\\\Users\\\\jlr10\\\\OneDrive - North-Eastern Federal University in Yakutsk\\\\A-IM-G(20)\\\\Кандидатская диссертация\\\\Статья генотип-белок\\\\Методы\\\\AFM\\\\4_NBAS_NMD\\\\UPF3B-CtermNBAS\\\\interchain_contact\\\\interchain_contact-rank_0-query_1-query_2.tsv\",\n",
    "    \"C:\\\\Users\\\\jlr10\\\\OneDrive - North-Eastern Federal University in Yakutsk\\\\A-IM-G(20)\\\\Кандидатская диссертация\\\\Статья генотип-белок\\\\Методы\\\\AFM\\\\4_NBAS_NMD\\\\UPF3B-CtermNBAS\\\\interchain_contact\\\\interchain_contact-rank_1-query_1-query_2.tsv\",\n",
    "    \"C:\\\\Users\\\\jlr10\\\\OneDrive - North-Eastern Federal University in Yakutsk\\\\A-IM-G(20)\\\\Кандидатская диссертация\\\\Статья генотип-белок\\\\Методы\\\\AFM\\\\4_NBAS_NMD\\\\UPF3B-CtermNBAS\\\\interchain_contact\\\\interchain_contact-rank_2-query_1-query_2.tsv\",\n",
    "    \"C:\\\\Users\\\\jlr10\\\\OneDrive - North-Eastern Federal University in Yakutsk\\\\A-IM-G(20)\\\\Кандидатская диссертация\\\\Статья генотип-белок\\\\Методы\\\\AFM\\\\4_NBAS_NMD\\\\UPF3B-CtermNBAS\\\\interchain_contact\\\\interchain_contact-rank_3-query_1-query_2.tsv\",\n",
    "    \"C:\\\\Users\\\\jlr10\\\\OneDrive - North-Eastern Federal University in Yakutsk\\\\A-IM-G(20)\\\\Кандидатская диссертация\\\\Статья генотип-белок\\\\Методы\\\\AFM\\\\4_NBAS_NMD\\\\UPF3B-CtermNBAS\\\\interchain_contact\\\\interchain_contact-rank_4-query_1-query_2.tsv\",\n",
    "]\n",
    "\n",
    "# Load the data from each file into a DataFrame\n",
    "dfs = [pd.read_csv(file_path, delimiter='\\t', index_col=0) for file_path in file_paths]\n",
    "\n",
    "# Load the first file into a DataFrame\n",
    "df = pd.read_csv(file_paths[0], delimiter='\\t', index_col=0)\n",
    "\n",
    "# Extract the labels from the index\n",
    "labels = df.index.values\n",
    "\n",
    "# Concatenate all DataFrames along a new axis and calculate the mean\n",
    "df_mean = pd.concat(dfs, axis=0).groupby(level=0).mean()\n",
    "\n",
    "# Sort the index of the DataFrame\n",
    "df_mean = df_mean.sort_index()\n",
    "\n",
    "# Sort the DataFrame according to the extracted labels\n",
    "df_mean = df_mean.reindex(labels)\n",
    "\n",
    "# Define a threshold distance\n",
    "threshold_distance = 13\n",
    "\n",
    "# Initialize an empty set to collect unique amino acids\n",
    "unique_amino_acids = set()\n",
    "\n",
    "# Iterate over the rows of the DataFrame\n",
    "for index, row in df_mean.iterrows():\n",
    "    # Iterate over the distances in the row\n",
    "    for column, distance in row.items():\n",
    "        # Check if the distance is closer than the threshold\n",
    "        if distance < threshold_distance:\n",
    "            # Split the column name to extract the amino acid sequences\n",
    "            amino_acids = column.split('|')\n",
    "            # Add the first amino acid to the set\n",
    "            unique_amino_acids.add(int(amino_acids[0])+1399)\n",
    "\n",
    "# Convert the set to a sorted list\n",
    "sorted_unique_amino_acids = sorted(unique_amino_acids)\n",
    "\n",
    "# Print the sorted list of unique amino acids\n",
    "print(\"Unique Amino Acids Sorted in Increasing Order:\")\n",
    "print(sorted_unique_amino_acids)\n"
   ]
  },
  {
   "cell_type": "markdown",
   "id": "d7fb7a7f",
   "metadata": {},
   "source": [
    "# All contact site aa"
   ]
  },
  {
   "cell_type": "code",
   "execution_count": 59,
   "id": "ae63afd1",
   "metadata": {
    "tags": []
   },
   "outputs": [
    {
     "name": "stdout",
     "output_type": "stream",
     "text": [
      "all good\n"
     ]
    }
   ],
   "source": [
    "USE1_cs = [727, 730, 731, 732, 733, 734, 735, 736, 737, 761, 762, 763, 764, 765, 766, 767, 768, 771, 821, 822, 824, 825, 826, 852, 853, 854, 855, 856, 857, 858, 859, 860, 861, 862, 863, 864, 865, 888, 889, 890, 891, 892, 893, 894, 895, 896, 897, 898, 899, 900, 901, 902, 903, 921, 926]\n",
    "ZW10_cs = [1305, 1307, 1308, 1309, 1310, 1311, 1313, 1315, 1316, 1319, 1320, 1323, 1334, 1335, 1336, 1337, 1338, 1339, 1340, 1341, 1342, 1343, 1344, 1345, 1346, 1347, 1348, 1349, 1350, 1351, 1352, 1353, 1354, 1355, 1356, 1357, 1358, 1359, 1360, 1361, 1362, 1364, 1365, 1464, 1466, 1467, 1468, 1469, 1470, 1471, 1472, 1473, 1474, 1475, 1476, 1477, 1478, 1479, 1480, 1481, 1482, 1483, 1484, 1485, 1487, 1488, 1489, 1490, 1491, 1492, 1493, 1494, 1495, 1496, 1497, 1498, 1499, 1500, 1501, 1502, 1503, 1504, 1505, 1506, 1507, 1508, 1509, 1510, 1511, 1512, 1513, 1514, 1515, 1516, 1517, 1518, 1519, 1520, 1521, 1522, 1523, 1524, 1525, 1526, 1527, 1528, 1529, 1530, 1532, 1533, 1535, 1536, 1537, 1539, 1540, 1541, 1542, 1543, 1544, 1545, 1546, 1547, 1548, 1549, 1550, 1551, 1552, 1553, 1554, 1556, 1557, 1565, 1566, 1567, 1568, 1569, 1570, 1571, 1572, 1573, 1574, 1575, 1576, 1577, 1579, 1580, 1581, 1582, 1583, 1584, 1585, 1586, 1587, 1588, 1589, 1590, 1591, 1592, 1593, 1594, 1595, 1596, 1597, 1598, 1599, 1600, 1601, 1602, 1603, 1604, 1605, 1606, 1607, 1608, 1609, 1610, 1611, 1612, 1613, 1614, 1615, 1616, 1617, 1618, 1619, 1620, 1621, 1622, 1624, 1625, 1629, 1635, 1636, 1638, 1639, 1640, 1641, 1642, 1643, 1644, 1645, 1646, 1647, 1648, 1649, 1650, 1651, 1657, 1661, 1681, 1684, 1685, 1686, 1687, 1688, 1689, 1691, 1692]\n",
    "RAB18_cs = [1077, 1078, 1081, 1082, 1085, 1128, 1130, 1176, 1179, 1180, 1181, 1182, 1183, 1184, 1185, 1186, 1190, 1192, 1231, 1232, 1233, 1234, 1236, 1237]\n",
    "UPF3B_cs = [1652, 1653, 1654, 1655, 1656, 1666, 1669, 1670, 1672, 1673, 1674, 1676, 1703, 1706, 1707, 1710, 1711, 1746]\n",
    "# Define your lists\n",
    "\n",
    "# Create a dictionary to store the lists and their names\n",
    "lists = {\n",
    "    'USE1_cs': USE1_cs,\n",
    "    'ZW10_cs': ZW10_cs,\n",
    "    'RAB18_cs': RAB18_cs,\n",
    "    'UPF3B_cs': UPF3B_cs\n",
    "}\n",
    "\n",
    "# Variable to track if common elements were found\n",
    "found_common_elements = False\n",
    "\n",
    "# Iterate over each pair of lists and find common elements\n",
    "for list1_name, list1 in lists.items():\n",
    "    for list2_name, list2 in lists.items():\n",
    "        if list1_name != list2_name:  # Ensure we're not comparing the same list\n",
    "            common_elements = set(list1) & set(list2)\n",
    "            if common_elements:\n",
    "                print(f\"Common elements between {list1_name} and {list2_name}: {common_elements}\")\n",
    "                found_common_elements = True\n",
    "\n",
    "# If no common elements were found, print \"all good\"\n",
    "if not found_common_elements:\n",
    "    print(\"all good\")\n"
   ]
  },
  {
   "cell_type": "code",
   "execution_count": 61,
   "id": "66b29b66",
   "metadata": {
    "tags": []
   },
   "outputs": [
    {
     "name": "stdout",
     "output_type": "stream",
     "text": [
      "Minimum value in USE1_cs: 727\n",
      "Maximum value in USE1_cs: 926\n",
      "Minimum value in ZW10_cs: 1305\n",
      "Maximum value in ZW10_cs: 1692\n",
      "Minimum value in RAB18_cs: 1077\n",
      "Maximum value in RAB18_cs: 1237\n",
      "Minimum value in UPF3B_cs: 1652\n",
      "Maximum value in UPF3B_cs: 1746\n"
     ]
    }
   ],
   "source": [
    "# Iterate over each list and print its minimum and maximum values\n",
    "for list_name, lst in lists.items():\n",
    "    min_val = min(lst)\n",
    "    max_val = max(lst)\n",
    "    print(f\"Minimum value in {list_name}: {min_val}\")\n",
    "    print(f\"Maximum value in {list_name}: {max_val}\")"
   ]
  },
  {
   "cell_type": "code",
   "execution_count": 24,
   "id": "39721a5a",
   "metadata": {},
   "outputs": [
    {
     "data": {
      "image/png": "[encoded data removed]",
      "text/plain": [
       "<Figure size 2000x100 with 1 Axes>"
      ]
     },
     "metadata": {},
     "output_type": "display_data"
    }
   ],
   "source": [
    "import matplotlib.pyplot as plt\n",
    "all_affected_aa = [1, 64, 95, 103, 134, 136, 137, 151, 187, 202, 227, 253, 254, 256, 270, 271, 292, 340, 343, 348, 396, 409, 414, 422, 426, 447, 454, 517, 519, 568, 650, 671, 731, 747, 777, 803, 804, 842, 845, 857, 873, 877, 892, 903, 937, 940, 941, 984, 1053, 1055, 1073, 1097, 1121, 1129, 1178, 1199, 1201, 1474, 1495, 1517, 1521, 1549, 1578, 1707, 1708, 1743, 1914, 1918, 1921, 2232, 2269, 2280, 2287, 2335, 2346]\n",
    "\n",
    "# Define the ranges for each y value with corresponding colors\n",
    "ranges = [((727, 926), 'green'), ((1305, 1692), 'yellow'), ((1077, 1237), 'purple'), ((1652, 1746), 'blue')]\n",
    "\n",
    "# Create the plot\n",
    "plt.figure(figsize=(20, 1))\n",
    "\n",
    "# Plot vertical lines for each affected amino acid\n",
    "for aa in all_affected_aa:\n",
    "    plt.vlines(aa, ymin=0, ymax=2, color='red', zorder=3)  # zorder ensures the red lines are plotted below other elements\n",
    "\n",
    "# USE1_cs\n",
    "for aa in USE1_cs:\n",
    "    plt.vlines(aa, ymin=0, ymax=2, color='green', zorder=2)  # zorder ensures the red lines are plotted below other elements\n",
    "    \n",
    "site_range = range(727,926)\n",
    "for aa in site_range:\n",
    "    plt.vlines(aa, ymin=0, ymax=1, color='green', zorder=2)  # zorder ensures the red lines are plotted below other elements\n",
    "\n",
    "# UPF3B_cs\n",
    "for aa in UPF3B_cs:\n",
    "    plt.vlines(aa, ymin=0, ymax=2, color='blue', zorder=2)  # zorder ensures the red lines are plotted below other elements\n",
    "    \n",
    "site_range = range(1652,1746)\n",
    "for aa in site_range:\n",
    "    plt.vlines(aa, ymin=1, ymax=2, color='blue', zorder=2)  # zorder ensures the red lines are plotted below other elements\n",
    "\n",
    "# RAB18_cs\n",
    "for aa in RAB18_cs:\n",
    "    plt.vlines(aa, ymin=0, ymax=2, color='purple', zorder=2)  # zorder ensures the red lines are plotted below other elements\n",
    "    \n",
    "site_range = range(min(RAB18_cs),max(RAB18_cs))\n",
    "for aa in site_range:\n",
    "    plt.vlines(aa, ymin=0, ymax=1, color='purple', zorder=2)  # zorder ensures the red lines are plotted below other elements\n",
    "\n",
    "# ZW10_cs\n",
    "for aa in ZW10_cs:\n",
    "    plt.vlines(aa, ymin=0, ymax=2, color='yellow', zorder=2)  # zorder ensures the red lines are plotted below other elements\n",
    "    \n",
    "site_range = range(min(ZW10_cs),max(ZW10_cs))\n",
    "for aa in site_range:\n",
    "    plt.vlines(aa, ymin=0, ymax=1, color='yellow', zorder=2)  # zorder ensures the red lines are plotted below other elements\n",
    "\n",
    "# plddt\n",
    "for aa in bfactor_counts[\"70 < pLDDT ≤ 90\"]:\n",
    "    plt.vlines(aa, ymin=2, ymax=3, color='cyan', zorder=2)  # zorder ensures the red lines are plotted below other elements\n",
    "\n",
    "for aa in bfactor_counts[\"pLDDT > 90\"]:\n",
    "    plt.vlines(aa, ymin=2, ymax=3, color='blue', zorder=2)  # zorder ensures the red lines are plotted below other elements\n",
    "\n",
    "for aa in bfactor_counts[\"50 < pLDDT ≤ 70\"]:\n",
    "    plt.vlines(aa, ymin=2, ymax=3, color='yellow', zorder=2)  # zorder ensures the red lines are plotted below other elements\n",
    "\n",
    "for aa in bfactor_counts[\"pLDDT ≤ 50\"]:\n",
    "    plt.vlines(aa, ymin=2, ymax=3, color='orange', zorder=2)  # zorder ensures the red lines are plotted below other elements\n",
    "\n",
    "# Set x and y axis limits\n",
    "plt.xlim(0, 2371)\n",
    "plt.ylim(0, 3)\n",
    "\n",
    "# Set smaller axis values\n",
    "plt.gca().tick_params(axis='x', which='both', labelsize=2)\n",
    "\n",
    "# Set y axis ticks\n",
    "plt.yticks([1, 2], ['', ''])\n",
    "\n",
    "# Add labels and title\n",
    "plt.xlabel('')\n",
    "\n",
    "# Adjust the plot for publication quality\n",
    "plt.gca().tick_params(axis='both', which='major', labelsize=14)\n",
    "plt.gca().tick_params(axis='both', which='minor', labelsize=12)\n",
    "plt.gca().spines['top'].set_linewidth(0.5)\n",
    "plt.gca().spines['right'].set_linewidth(0.5)\n",
    "plt.gca().spines['bottom'].set_linewidth(0.5)\n",
    "plt.gca().spines['left'].set_linewidth(0.5)\n",
    "plt.grid(False)\n",
    "\n",
    "# Show the plot\n",
    "plt.show()\n",
    "# print(all_affected_aa)"
   ]
  },
  {
   "cell_type": "code",
   "execution_count": 67,
   "id": "f3fa3dac-61e6-4ca8-a230-f8b4c070b47c",
   "metadata": {
    "tags": []
   },
   "outputs": [
    {
     "data": {
      "image/png": "[encoded data removed]",
      "text/plain": [
       "<Figure size 2000x100 with 1 Axes>"
      ]
     },
     "metadata": {},
     "output_type": "display_data"
    }
   ],
   "source": [
    "import matplotlib.pyplot as plt\n",
    "import numpy as np\n",
    "\n",
    "all_affected_aa = [256, 1, 517, 519, 777, 1549, 270, 271, 1053, 1055, 2335, 803, 804, 1578, 2346, 1073, 2104, 568, 64, 1097, 842, 845, 340, 343, 857, 348, 95, 1121, 103, 1129, 873, 877, 373, 1914, 892, 1918, 1921, 134, 903, 136, 137, 650, 396, 151, 409, 1178, 414, 671, 422, 937, 426, 1707, 940, 941, 1708, 1199, 1201, 2232, 187, 447, 448, 1474, 454, 202, 1743, 1495, 984, 731, 2269, 227, 747, 1517, 2287, 1521, 253, 254]\n",
    "\n",
    "# Define the ranges for each y value with corresponding colors\n",
    "# ranges = [((727, 926), 'green'), ((1305, 1692), 'yellow'), ((1077, 1237), 'purple'), ((1652, 1746), 'blue')]\n",
    "\n",
    "# Create the plot\n",
    "plt.figure(figsize=(20, 1))\n",
    "\n",
    "# Plot vertical lines for each affected amino acid\n",
    "for aa in all_affected_aa:\n",
    "    plt.vlines(aa, ymin=0, ymax=2, color='red', zorder=4)  # zorder ensures the red lines are plotted below other elements\n",
    "\n",
    "# Define tick locations and labels for every 250 points on the x-axis\n",
    "x_ticks = np.arange(0, 2371, 100)\n",
    "x_tick_labels = [str(x) for x in x_ticks]\n",
    "\n",
    "# USE1_cs\n",
    "for aa in USE1_cs:\n",
    "    plt.vlines(aa, ymin=0, ymax=2, color='green', zorder=2)  # zorder ensures the red lines are plotted below other elements\n",
    "    \n",
    "site_range = range(727,926)\n",
    "for aa in site_range:\n",
    "    plt.vlines(aa, ymin=0, ymax=1, color='green')  # zorder ensures the red lines are plotted below other elements\n",
    "\n",
    "# UPF3B_cs nowar\n",
    "for aa in UPF3B_cs:\n",
    "    plt.vlines(aa, ymin=0, ymax=2, color='#0099ff', zorder=3)  # nowar\n",
    "    \n",
    "site_range = range(1652,1746)\n",
    "for aa in site_range:\n",
    "    plt.vlines(aa, ymin=1, ymax=2, color='#0099ff')  # nowar\n",
    "\n",
    "# RAB18_cs\n",
    "for aa in RAB18_cs:\n",
    "    plt.vlines(aa, ymin=0, ymax=2, color='purple', zorder=2)  # zorder ensures the red lines are plotted below other elements\n",
    "    \n",
    "site_range = range(min(RAB18_cs),max(RAB18_cs))\n",
    "for aa in site_range:\n",
    "    plt.vlines(aa, ymin=0, ymax=1, color='purple')  # zorder ensures the red lines are plotted below other elements\n",
    "\n",
    "# ZW10_cs nowar\n",
    "for aa in ZW10_cs:\n",
    "    plt.vlines(aa, ymin=0, ymax=2, color='#ffd700', zorder=3)  # nowar\n",
    "    \n",
    "site_range = range(min(ZW10_cs),max(ZW10_cs))\n",
    "for aa in site_range:\n",
    "    plt.vlines(aa, ymin=0, ymax=1, color='#ffd700')  # nowar\n",
    "# plddt\n",
    "for aa in bfactor_counts[\"70 < pLDDT ≤ 90\"]:\n",
    "    plt.vlines(aa, ymin=2, ymax=3, color='cyan', zorder=2)  # zorder ensures the red lines are plotted below other elements\n",
    "\n",
    "for aa in bfactor_counts[\"pLDDT > 90\"]:\n",
    "    plt.vlines(aa, ymin=2, ymax=3, color='blue', zorder=2)  # zorder ensures the red lines are plotted below other elements\n",
    "\n",
    "for aa in bfactor_counts[\"50 < pLDDT ≤ 70\"]:\n",
    "    plt.vlines(aa, ymin=2, ymax=3, color='yellow', zorder=2)  # zorder ensures the red lines are plotted below other elements\n",
    "\n",
    "for aa in bfactor_counts[\"pLDDT ≤ 50\"]:\n",
    "    plt.vlines(aa, ymin=2, ymax=3, color='orange', zorder=2)  # zorder ensures the red lines are plotted below other elements\n",
    "\n",
    "# Set x and y axis limits\n",
    "plt.xlim(0, 2371)\n",
    "plt.ylim(0, 3)\n",
    "\n",
    "# Set smaller axis values\n",
    "plt.gca().tick_params(axis='x', which='both', labelsize=2)\n",
    "\n",
    "# Set y axis ticks\n",
    "plt.yticks([1, 2], ['', ''])\n",
    "\n",
    "# Set custom tick locations and labels for x-axis\n",
    "plt.xticks(x_ticks, x_tick_labels)\n",
    "\n",
    "# Add labels and title\n",
    "plt.xlabel('')\n",
    "\n",
    "# Adjust the plot for publication quality\n",
    "plt.gca().tick_params(axis='both', which='major', labelsize=14)\n",
    "plt.gca().tick_params(axis='both', which='minor', labelsize=12)\n",
    "plt.gca().spines['top'].set_linewidth(0.5)\n",
    "plt.gca().spines['right'].set_linewidth(0.5)\n",
    "plt.gca().spines['bottom'].set_linewidth(0.5)\n",
    "plt.gca().spines['left'].set_linewidth(0.5)\n",
    "plt.grid(False)\n",
    "\n",
    "# Show the plot\n",
    "plt.show()\n"
   ]
  },
  {
   "cell_type": "code",
   "execution_count": 65,
   "id": "9b85fd23-9c32-4f99-9c11-f938ea95274d",
   "metadata": {
    "tags": []
   },
   "outputs": [
    {
     "name": "stdout",
     "output_type": "stream",
     "text": [
      "1594\n"
     ]
    }
   ],
   "source": [
    "def categorize_bfactor(bfactor):\n",
    "    if bfactor > 90:\n",
    "        return \"pLDDT > 90\"\n",
    "    elif 70 < bfactor <= 90:\n",
    "        return \"70 < pLDDT ≤ 90\"\n",
    "    elif 50 < bfactor <= 70:\n",
    "        return \"50 < pLDDT ≤ 70\"\n",
    "    else:\n",
    "        return \"pLDDT ≤ 50\"\n",
    "\n",
    "# Read PDB file and extract B-factor values\n",
    "pdb_file = \"AF-A2RRP1-F1-model_v4.pdb\"\n",
    "bfactor_counts = {\"pLDDT > 90\": [], \"70 < pLDDT ≤ 90\": [], \"50 < pLDDT ≤ 70\": [], \"pLDDT ≤ 50\": []}\n",
    "\n",
    "with open(pdb_file, 'r') as f:\n",
    "    start_c = 1\n",
    "    for line in f:\n",
    "        if line.startswith('ATOM'):\n",
    "            if start_c == int(line[22:26].strip()):\n",
    "                bfactor = float(line[60:66].strip())\n",
    "                category = categorize_bfactor(bfactor)\n",
    "                bfactor_counts[category].append(start_c)\n",
    "                start_c += 1\n",
    "\n",
    "print(len(bfactor_counts[\"70 < pLDDT ≤ 90\"]))"
   ]
  },
  {
   "cell_type": "markdown",
   "id": "9092b953",
   "metadata": {},
   "source": [
    "# pLDDT count for cs, pv and protein"
   ]
  },
  {
   "cell_type": "markdown",
   "id": "a1bf96b6",
   "metadata": {},
   "source": [
    "## PV"
   ]
  },
  {
   "cell_type": "code",
   "execution_count": 52,
   "id": "0f18133f",
   "metadata": {
    "tags": []
   },
   "outputs": [
    {
     "name": "stdout",
     "output_type": "stream",
     "text": [
      "Результаты категоризации B-factor:\n",
      "pLDDT > 90: 16 аминокислот (21.05%)\n",
      "70 < pLDDT ≤ 90: 48 аминокислот (63.16%)\n",
      "50 < pLDDT ≤ 70: 6 аминокислот (7.89%)\n",
      "pLDDT ≤ 50: 6 аминокислот (7.89%)\n",
      "76\n"
     ]
    }
   ],
   "source": [
    "def get_bfactor_for_residues(pdb_file, residue_numbers):\n",
    "    b_factors = []\n",
    "    for residue_number in residue_numbers:\n",
    "        with open(pdb_file, 'r') as f:\n",
    "            for line in f:\n",
    "                if line.startswith('ATOM'):\n",
    "                    atom_residue_number = int(line[22:26].strip())\n",
    "                    if atom_residue_number == residue_number:\n",
    "                        b_factor = float(line[60:66].strip())\n",
    "                        b_factors.append(b_factor)\n",
    "                        break\n",
    "    return b_factors\n",
    "\n",
    "def categorize_bfactor(bfactor):\n",
    "    if bfactor > 90:\n",
    "        return \"pLDDT > 90\"\n",
    "    elif 70 < bfactor <= 90:\n",
    "        return \"70 < pLDDT ≤ 90\"\n",
    "    elif 50 < bfactor <= 70:\n",
    "        return \"50 < pLDDT ≤ 70\"\n",
    "    else:\n",
    "        return \"pLDDT ≤ 50\"\n",
    "\n",
    "# Пример использования:\n",
    "pdb_file = \"AF-A2RRP1-F1-model_v4.pdb\"  # Укажите путь к вашему файлу PDB\n",
    "residue_numbers = [256, 1, 517, 519, 777, 1549, 270, 271, 1053, 1055, 2335, 803, 804, 1578, 2346, 1073, 2104, 568, 64, 1097, 842, 845, 340, 343, 857, 348, 95, 1121, 103, 1129, 873, 877, 373, 1914, 892, 1918, 1921, 134, 903, 136, 137, 650, 396, 151, 409, 1178, 414, 671, 422, 937, 426, 1707, 940, 941, 1708, 1199, 1201, 2232, 187, 447, 448, 1474, 454, 202, 1743, 1495, 984, 731, 2269, 227, 747, 1517, 2287, 1521, 253, 254]\n",
    "\n",
    "b_factors = get_bfactor_for_residues(pdb_file, residue_numbers)\n",
    "if b_factors:\n",
    "    categories_counts = {\"pLDDT > 90\": 0, \"70 < pLDDT ≤ 90\": 0, \"50 < pLDDT ≤ 70\": 0, \"pLDDT ≤ 50\": 0}\n",
    "    total_residues = len(residue_numbers)\n",
    "\n",
    "    for b_factor in b_factors:\n",
    "        category = categorize_bfactor(b_factor)\n",
    "        categories_counts[category] += 1\n",
    "\n",
    "    print(\"Результаты категоризации B-factor:\")\n",
    "    for category, count in categories_counts.items():\n",
    "        percentage = (count / total_residues) * 100\n",
    "        print(f\"{category}: {count} аминокислот ({percentage:.2f}%)\")\n",
    "else:\n",
    "    print(\"ошибка 404\")\n",
    "print(len(residue_numbers))"
   ]
  },
  {
   "cell_type": "markdown",
   "id": "ac463ddd",
   "metadata": {},
   "source": [
    "## CS"
   ]
  },
  {
   "cell_type": "code",
   "execution_count": 13,
   "id": "a3492750-921a-4c59-9f0b-5979edf778ff",
   "metadata": {},
   "outputs": [
    {
     "name": "stdout",
     "output_type": "stream",
     "text": [
      "USE1_cs\n",
      "Результаты категоризации B-factor:\n",
      "pLDDT > 90: 17 аминокислот (30.91%)\n",
      "70 < pLDDT ≤ 90: 35 аминокислот (63.64%)\n",
      "50 < pLDDT ≤ 70: 3 аминокислот (5.45%)\n",
      "pLDDT ≤ 50: 0 аминокислот (0.00%)\n",
      "55\n",
      "\n",
      "\n",
      "ZW10_cs\n",
      "Результаты категоризации B-factor:\n",
      "pLDDT > 90: 0 аминокислот (0.00%)\n",
      "70 < pLDDT ≤ 90: 148 аминокислот (67.89%)\n",
      "50 < pLDDT ≤ 70: 59 аминокислот (27.06%)\n",
      "pLDDT ≤ 50: 11 аминокислот (5.05%)\n",
      "218\n",
      "\n",
      "\n",
      "UPF3B_cs\n",
      "Результаты категоризации B-factor:\n",
      "pLDDT > 90: 0 аминокислот (0.00%)\n",
      "70 < pLDDT ≤ 90: 13 аминокислот (72.22%)\n",
      "50 < pLDDT ≤ 70: 5 аминокислот (27.78%)\n",
      "pLDDT ≤ 50: 0 аминокислот (0.00%)\n",
      "18\n",
      "\n",
      "\n",
      "RAB18_cs\n",
      "Результаты категоризации B-factor:\n",
      "pLDDT > 90: 0 аминокислот (0.00%)\n",
      "70 < pLDDT ≤ 90: 9 аминокислот (37.50%)\n",
      "50 < pLDDT ≤ 70: 15 аминокислот (62.50%)\n",
      "pLDDT ≤ 50: 0 аминокислот (0.00%)\n",
      "24\n",
      "\n",
      "\n"
     ]
    }
   ],
   "source": [
    "def get_bfactor_for_residues(pdb_file, residue_numbers):\n",
    "    b_factors = []\n",
    "    for residue_number in residue_numbers:\n",
    "        with open(pdb_file, 'r') as f:\n",
    "            for line in f:\n",
    "                if line.startswith('ATOM'):\n",
    "                    atom_residue_number = int(line[22:26].strip())\n",
    "                    if atom_residue_number == residue_number:\n",
    "                        b_factor = float(line[60:66].strip())\n",
    "                        b_factors.append(b_factor)\n",
    "                        break\n",
    "    return b_factors\n",
    "\n",
    "def categorize_bfactor(bfactor):\n",
    "    if bfactor > 90:\n",
    "        return \"pLDDT > 90\"\n",
    "    elif 70 < bfactor <= 90:\n",
    "        return \"70 < pLDDT ≤ 90\"\n",
    "    elif 50 < bfactor <= 70:\n",
    "        return \"50 < pLDDT ≤ 70\"\n",
    "    else:\n",
    "        return \"pLDDT ≤ 50\"\n",
    "\n",
    "# Пример использования:\n",
    "pdb_file = \"AF-A2RRP1-F1-model_v4.pdb\"  # Укажите путь к вашему файлу PDB\n",
    "residue_numbers = [USE1_cs, ZW10_cs, UPF3B_cs, RAB18_cs]\n",
    "residue_list = [\"USE1_cs\", \"ZW10_cs\", \"UPF3B_cs\", \"RAB18_cs\"]\n",
    "count_l = 0\n",
    "for q in residue_numbers:\n",
    "    b_factors = get_bfactor_for_residues(pdb_file, q)\n",
    "    if b_factors:\n",
    "        categories_counts = {\"pLDDT > 90\": 0, \"70 < pLDDT ≤ 90\": 0, \"50 < pLDDT ≤ 70\": 0, \"pLDDT ≤ 50\": 0}\n",
    "        total_residues = len(q)\n",
    "        print(residue_list[count_l])\n",
    "        count_l += 1\n",
    "        for b_factor in b_factors:\n",
    "            category = categorize_bfactor(b_factor)\n",
    "            categories_counts[category] += 1\n",
    "    \n",
    "        print(\"Результаты категоризации B-factor:\")\n",
    "        for category, count in categories_counts.items():\n",
    "            percentage = (count / total_residues) * 100\n",
    "            print(f\"{category}: {count} аминокислот ({percentage:.2f}%)\")\n",
    "        print(len(q))\n",
    "        print(\"\\n\")\n",
    "    else:\n",
    "        print(\"ошибка 404\")\n"
   ]
  },
  {
   "cell_type": "markdown",
   "id": "25572d5a",
   "metadata": {},
   "source": [
    "## NBAS"
   ]
  },
  {
   "cell_type": "code",
   "execution_count": 4,
   "id": "94e2e306",
   "metadata": {},
   "outputs": [
    {
     "name": "stdout",
     "output_type": "stream",
     "text": [
      "B-Factor Ranges for the NBAS Protein:\n",
      "pLDDT > 90: 180 atoms (7.59%)\n",
      "70 < pLDDT ≤ 90: 1594 atoms (67.23%)\n",
      "50 < pLDDT ≤ 70: 334 atoms (14.09%)\n",
      "pLDDT ≤ 50: 263 atoms (11.09%)\n"
     ]
    }
   ],
   "source": [
    "def categorize_bfactor(bfactor):\n",
    "    if bfactor > 90:\n",
    "        return \"pLDDT > 90\"\n",
    "    elif 70 < bfactor <= 90:\n",
    "        return \"70 < pLDDT ≤ 90\"\n",
    "    elif 50 < bfactor <= 70:\n",
    "        return \"50 < pLDDT ≤ 70\"\n",
    "    else:\n",
    "        return \"pLDDT ≤ 50\"\n",
    "\n",
    "# Read PDB file and extract B-factor values\n",
    "pdb_file = \"AF-A2RRP1-F1-model_v4.pdb\"\n",
    "bfactor_counts = {\"pLDDT > 90\": 0, \"70 < pLDDT ≤ 90\": 0, \"50 < pLDDT ≤ 70\": 0, \"pLDDT ≤ 50\": 0}\n",
    "\n",
    "with open(pdb_file, 'r') as f:\n",
    "    start_c = 1\n",
    "    for line in f:\n",
    "        if line.startswith('ATOM'):\n",
    "            if start_c == int(line[22:26].strip()):\n",
    "                bfactor = float(line[60:66].strip())\n",
    "                category = categorize_bfactor(bfactor)\n",
    "                bfactor_counts[category] += 1\n",
    "                start_c += 1\n",
    "\n",
    "\n",
    "print(\"B-Factor Ranges for the NBAS Protein:\")\n",
    "for category, count in bfactor_counts.items():\n",
    "    total_atoms = sum(bfactor_counts.values())\n",
    "    percentage = (count / total_atoms) * 100 if total_atoms != 0 else 0\n",
    "    print(f\"{category}: {count} atoms ({percentage:.2f}%)\")\n"
   ]
  },
  {
   "cell_type": "markdown",
   "id": "7638d800-90f7-48af-bbda-5e3ebff34b41",
   "metadata": {},
   "source": [
    "# pymol commands"
   ]
  },
  {
   "cell_type": "raw",
   "id": "ac5e41af-b6c0-43d6-ad7d-f940fc0398c7",
   "metadata": {},
   "source": [
    "# set to publication quality preset using UI"
   ]
  },
  {
   "cell_type": "code",
   "execution_count": null,
   "id": "e68c2d03-9236-4cc5-8b40-87f8903b9f50",
   "metadata": {},
   "outputs": [],
   "source": [
    "spectrum b, orange yellow yellow yellow yellow yellow yellow yellow yellow yellow yellow yellow yellow yellow yellow yellow yellow yellow yellow yellow lanthanum lanthanum lanthanum lanthanum lanthanum lanthanum lanthanum lanthanum lanthanum lanthanum lanthanum lanthanum lanthanum lanthanum lanthanum lanthanum lanthanum lanthanum lanthanum lanthanum blue blue blue blue blue blue blue blue blue blue, minimum=50, maximum=100"
   ]
  },
  {
   "cell_type": "code",
   "execution_count": null,
   "id": "622689f3-50df-4d4e-8528-b34583abed6b",
   "metadata": {},
   "outputs": [],
   "source": [
    "set cartoon_transparency, 0.8"
   ]
  },
  {
   "cell_type": "code",
   "execution_count": null,
   "id": "1cd0bc96-2bc3-44f4-a006-91667eb7b09f",
   "metadata": {},
   "outputs": [],
   "source": [
    "select USE1_cs_residues, resi 727+730+731+732+733+734+735+736+737+761+762+763+764+765+766+767+768+771+821+822+824+825+826+852+853+854+855+856+857+858+859+860+861+862+863+864+865+888+889+890+891+892+893+894+895+896+897+898+899+900+901+902+903+921+926\n"
   ]
  },
  {
   "cell_type": "code",
   "execution_count": null,
   "id": "01b348ba-ab7d-4fe8-99b6-6472bdce9684",
   "metadata": {},
   "outputs": [],
   "source": [
    "color blue, USE1_cs_residues"
   ]
  },
  {
   "cell_type": "code",
   "execution_count": null,
   "id": "da651ec4-62cb-4cea-b402-c30f357f3723",
   "metadata": {},
   "outputs": [],
   "source": [
    "set cartoon_transparency, 0, USE1_cs_residues"
   ]
  },
  {
   "cell_type": "code",
   "execution_count": null,
   "id": "5fd47c90-a170-4a98-9fea-ae39022e1252",
   "metadata": {},
   "outputs": [],
   "source": [
    "select ZW10_cs_residues, resi 1305+1307+1308+1309+1310+1311+1313+1315+1316+1319+1320+1323+1334+1335+1336+1337+1338+1339+1340+1341+1342+1343+1344+1345+1346+1347+1348+1349+1350+1351+1352+1353+1354+1355+1356+1357+1358+1359+1360+1361+1362+1364+1365+1464+1466+1467+1468+1469+1470+1471+1472+1473+1474+1475+1476+1477+1478+1479+1480+1481+1482+1483+1484+1485+1487+1488+1489+1490+1491+1492+1493+1494+1495+1496+1497+1498+1499+1500+1501+1502+1503+1504+1505+1506+1507+1508+1509+1510+1511+1512+1513+1514+1515+1516+1517+1518+1519+1520+1521+1522+1523+1524+1525+1526+1527+1528+1529+1530+1532+1533+1535+1536+1537+1539+1540+1541+1542+1543+1544+1545+1546+1547+1548+1549+1550+1551+1552+1553+1554+1556+1557+1565+1566+1567+1568+1569+1570+1571+1572+1573+1574+1575+1576+1577+1579+1580+1581+1582+1583+1584+1585+1586+1587+1588+1589+1590+1591+1592+1593+1594+1595+1596+1597+1598+1599+1600+1601+1602+1603+1604+1605+1606+1607+1608+1609+1610+1611+1612+1613+1614+1615+1616+1617+1618+1619+1620+1621+1622+1624+1625+1629+1635+1636+1638+1639+1640+1641+1642+1643+1644+1645+1646+1647+1648+1649+1650+1651+1657+1661+1681+1684+1685+1686+1687+1688+1689+1691+1692\n"
   ]
  },
  {
   "cell_type": "code",
   "execution_count": null,
   "id": "91c615ba-328d-4c5c-aa9f-f2d569707ef2",
   "metadata": {},
   "outputs": [],
   "source": [
    "color yellow, ZW10_cs_residues"
   ]
  },
  {
   "cell_type": "code",
   "execution_count": null,
   "id": "1253aef5-763c-4e3b-9328-a1f35cc4b170",
   "metadata": {},
   "outputs": [],
   "source": [
    "set cartoon_transparency, 0, ZW10_cs_residues "
   ]
  },
  {
   "cell_type": "code",
   "execution_count": null,
   "id": "e657ae4f-4a45-4607-a933-6ec91c0006e4",
   "metadata": {},
   "outputs": [],
   "source": [
    "select UPF3B_cs_residues, resi 1652+1653+1654+1655+1656+1666+1669+1670+1672+1673+1674+1676+1703+1706+1707+1710+1711+1746\n"
   ]
  },
  {
   "cell_type": "code",
   "execution_count": null,
   "id": "cf4c14a5-2e56-4018-a569-2e5e9e3349ff",
   "metadata": {},
   "outputs": [],
   "source": [
    "color cyan, UPF3B_cs_residues\n"
   ]
  },
  {
   "cell_type": "code",
   "execution_count": null,
   "id": "a0db397b-22d1-4867-957c-dfde0503f728",
   "metadata": {},
   "outputs": [],
   "source": [
    "set cartoon_transparency, 0, UPF3B_cs_residues"
   ]
  },
  {
   "cell_type": "code",
   "execution_count": null,
   "id": "e8b0d46d-42d0-488c-9572-858d7474f66e",
   "metadata": {},
   "outputs": [],
   "source": [
    "select RAB18_cs_residues, resi 1077+1078+1081+1082+1085+1128+1130+1176+1179+1180+1181+1182+1183+1184+1185+1186+1190+1192+1231+1232+1233+1234+1236+1237\n"
   ]
  },
  {
   "cell_type": "code",
   "execution_count": null,
   "id": "b16cac0a-cfda-45a1-9c4e-0b67ca5f4b27",
   "metadata": {},
   "outputs": [],
   "source": [
    "color purple, RAB18_cs_residues\n"
   ]
  },
  {
   "cell_type": "code",
   "execution_count": null,
   "id": "53fb3694-9560-457f-bc79-d11781310726",
   "metadata": {},
   "outputs": [],
   "source": [
    "set cartoon_transparency, 0, RAB18_cs_residues"
   ]
  },
  {
   "cell_type": "code",
   "execution_count": null,
   "id": "67f519f8-256b-454d-8af5-d5dcfd897ad0",
   "metadata": {},
   "outputs": [],
   "source": [
    "select PV, resi 256+1+517+519+777+1549+270+271+1053+1055+2335+803+804+1578+2346+1073+2104+568+64+1097+842+845+340+343+857+348+95+1121+103+1129+873+877+373+1914+892+1918+1921+134+903+136+137+650+396+151+409+1178+414+671+422+937+426+1707+940+941+1708+1199+1201+2232+187+447+448+1474+454+202+1743+1495+984+731+2269+227+747+1517+2287+1521+253+254"
   ]
  },
  {
   "cell_type": "code",
   "execution_count": null,
   "id": "90974f7c-c8ee-42a4-bb61-93eb801d2748",
   "metadata": {},
   "outputs": [],
   "source": [
    "color red and sticks using UI"
   ]
  },
  {
   "cell_type": "code",
   "execution_count": null,
   "id": "1b8ec65b-b8ac-4562-becd-5e25dd80d0c4",
   "metadata": {},
   "outputs": [],
   "source": [
    "label PV and n. CA, \"%s%s\" % (resi, resn)\n"
   ]
  },
  {
   "cell_type": "code",
   "execution_count": null,
   "id": "5c8ec075-49ca-48d0-8919-39a70d97483e",
   "metadata": {},
   "outputs": [],
   "source": [
    "hide everything, (resi 1-700)\n"
   ]
  },
  {
   "cell_type": "code",
   "execution_count": null,
   "id": "36b4cf08-cf1b-4a52-b333-4a192c277d91",
   "metadata": {},
   "outputs": [],
   "source": [
    "cmd.set(\"label_color\", \"black\", selection=\"PV and n. CA\")\n"
   ]
  },
  {
   "cell_type": "code",
   "execution_count": null,
   "id": "080f1ab8-3e87-45c7-9282-6b3c97831299",
   "metadata": {},
   "outputs": [],
   "source": [
    "hide everything, (resi 700-2371)\n"
   ]
  },
  {
   "cell_type": "code",
   "execution_count": null,
   "id": "17dd43f8-ed9b-436b-89f1-c7f4b898ea42",
   "metadata": {},
   "outputs": [],
   "source": [
    "ray 1920, 1920"
   ]
  },
  {
   "cell_type": "code",
   "execution_count": null,
   "id": "82208549-44ef-498b-9ec6-1ae12bda4756",
   "metadata": {},
   "outputs": [],
   "source": [
    "cmd.png(\"output_image.png\", dpi=300)\n"
   ]
  },
  {
   "cell_type": "markdown",
   "id": "3d689592-0ada-4132-afcf-8d3a94ebd753",
   "metadata": {},
   "source": [
    "# find PV"
   ]
  },
  {
   "cell_type": "code",
   "execution_count": 82,
   "id": "e0b9c680-f718-4e38-b997-a69a5b331756",
   "metadata": {
    "tags": []
   },
   "outputs": [],
   "source": [
    "path_var_mis = \"\"\"\n",
    "Arg137Trp\n",
    "Leu903Arg\n",
    "Arg137Trp\n",
    "Arg137Trp\n",
    "Gly254Asp\n",
    "Gly340Arg\n",
    "Pro650Ser\n",
    "p.R2104Q\n",
    "Arg941His\n",
    "Leu903Arg\n",
    "Arg1914His\n",
    "Ser1129Phe\n",
    "Trp845Cys\n",
    "Leu271Pro\n",
    "Thr731Pro\n",
    "Pro777His\n",
    "His940Pro\n",
    "Ser1129Phe\n",
    "Gln1201Pro\n",
    "Cys256Tyr\n",
    "Trp845Cys\n",
    "Gly340Arg\n",
    "Ser343Asn\n",
    "Tyr747Asp\n",
    "Arg517Cys\n",
    "Cys1199Tyr\n",
    "Leu422Pro\n",
    "Arg1914His\n",
    "Arg64His\n",
    "Pro937Ala\n",
    "Gln1201Pro\n",
    "Val519Glu\n",
    "Ala103Thr\n",
    "Arg517Cys\n",
    "Ile984Ser\n",
    "Cys1199Tyr\n",
    "Gln2232Glu\n",
    "Arg1073Cys\n",
    "Lys1517Glu\n",
    "Glu2269Lys\n",
    "Tyr1495His\n",
    "Arg137Trp\n",
    "Leu903Arg\n",
    "Leu1055Pro\n",
    "Trp396Arg\n",
    "Val253Gly\n",
    "Gly254Asp\n",
    "Val892Phe\n",
    "Pro650Ser\n",
    "p.L373P\n",
    "Arg941His\n",
    "Leu903Arg\n",
    "Met1Leu\n",
    "Arg1914His\n",
    "Leu271Pro\n",
    "Thr731Pro\n",
    "Pro777His\n",
    "His940Pro\n",
    "Ser1129Phe\n",
    "Gln1201Pro\n",
    "Phe671Cys\n",
    "Ala1921Pro\n",
    "Arg1914Cys\n",
    "Cys1199Tyr\n",
    "Arg1914His\n",
    "Arg2335Trp\n",
    "Leu1549Pro\n",
    "Arg517Cys\n",
    "Arg1914His\n",
    "Val568Ile\n",
    "Pro937Ala\n",
    "Gln1201Pro\n",
    "Val519Glu\n",
    "Phe1707Ile\n",
    "Glu151Lys\n",
    "Arg136Gly\n",
    "Cys1199Tyr\n",
    "Pro454Arg\n",
    "Met1743Val\n",
    "Pro1474Leu\n",
    "Glu1521Gln\n",
    "Thr1097Met\n",
    "\"\"\""
   ]
  },
  {
   "cell_type": "code",
   "execution_count": 84,
   "id": "57fc81d0-31e1-40d2-924d-6d0b49254e23",
   "metadata": {
    "tags": []
   },
   "outputs": [],
   "source": [
    "mutation_numbers_mis = set() # for missence\n",
    "for mutation in path_var_mis.split('\\n'):\n",
    "    if mutation:\n",
    "        num = ''.join(filter(str.isdigit, mutation))\n",
    "        if num:  # Убедимся, что значение не пустое\n",
    "            mutation_numbers_mis.add(int(num)) "
   ]
  },
  {
   "cell_type": "code",
   "execution_count": 86,
   "id": "23a83832-79af-4393-8cac-9e7e62b8370d",
   "metadata": {
    "tags": []
   },
   "outputs": [
    {
     "name": "stdout",
     "output_type": "stream",
     "text": [
      "{256, 1, 1921, 517, 903, 519, 137, 650, 777, 396, 1549, 136, 271, 151, 1055, 671, 2335, 422, 937, 1707, 940, 941, 1199, 1201, 1073, 2104, 2232, 568, 64, 1474, 454, 1097, 845, 1743, 340, 343, 984, 1495, 731, 2269, 103, 1129, 747, 1517, 1521, 373, 1914, 892, 253, 254}\n"
     ]
    }
   ],
   "source": [
    "print(mutation_numbers_mis)"
   ]
  },
  {
   "cell_type": "code",
   "execution_count": 88,
   "id": "ef47c8df-dd31-4047-a40c-1aee6dfa9739",
   "metadata": {
    "tags": []
   },
   "outputs": [],
   "source": [
    "path_var_all = \"\"\"Arg137Trp\n",
    "Arg137Trp\n",
    "Arg137Trp\n",
    "Ile187del\n",
    "Leu903Arg\n",
    "Leu202del\n",
    "Leu903Arg\n",
    "Arg1004*\n",
    "Ile512Thrfs*4\n",
    "Pro348Ser\n",
    "Pro348Ser\n",
    "Trp396*\n",
    "Ser230Glnfs*4\n",
    "Glu943*\n",
    "Cys426Trp\n",
    "Ala95Val\n",
    "Arg137Trp\n",
    "Arg1914His\n",
    "Arg1914His\n",
    "Gly270Ala\n",
    "Arg137Trp\n",
    "Arg1914His\n",
    "C1199Y\n",
    "C1199Y\n",
    "E803K\n",
    "His227Pro\n",
    "His227Pro\n",
    "Arg1914His\n",
    "R1914H\n",
    "Thr1918Pro\n",
    "Glu447Lys\n",
    "C1199Y\n",
    "Arg501*\n",
    "Ser230Glnfs*4\n",
    "Arg1914His\n",
    "Ile984Leufs*8\n",
    "Arg1914His\n",
    "Gly254Asp\n",
    "Gly340Arg\n",
    "Pro650Ser\n",
    "p.R2104Q\n",
    "Arg941His\n",
    "Leu903Arg\n",
    "Arg1914His\n",
    "Arg1914His\n",
    "Arg1914His\n",
    "Ser6*\n",
    "Ser1129Phe\n",
    "Trp845Cys\n",
    "Ala95Val\n",
    "Leu271Pro\n",
    "Ser414Phe\n",
    "Ser414Phe\n",
    "Arg517Cys\n",
    "Arg517His\n",
    "Arg517His\n",
    "Thr731Pro\n",
    "Pro777His\n",
    "Pro777His\n",
    "Pro937Ala\n",
    "His940Pro\n",
    "Ile984Ser\n",
    "Leu1055Pro\n",
    "Ile1121Met\n",
    "Ser1129Phe\n",
    "Ser1129Phe\n",
    "Ser1178Arg\n",
    "Gln1201Pro\n",
    "Leu1708Pro\n",
    "Arg1914His\n",
    "Arg1914Gly\n",
    "Ala1921Pro\n",
    "Gln2322Hisfs*18\n",
    "Cys256Tyr\n",
    "Trp845Cys\n",
    "Tyr142*\n",
    "Phe167LeufsTer10\n",
    "Gly340Arg\n",
    "Trp1095*\n",
    "Ala1146GlnfsTer14\n",
    "Arg941His\n",
    "Phe231ThrfsTer35\n",
    "Ser343Asn\n",
    "Val393ArgfsTer2\n",
    "Tyr747Asp\n",
    "Gln1039*\n",
    "Ser230Glnfs*4\n",
    "Arg1914His\n",
    "R517C\n",
    "C1199Y\n",
    "Leu422Pro\n",
    "Arg1914His\n",
    "Arg1914His\n",
    "Tyr1578dup\n",
    "Arg64His\n",
    "Pro937Ala\n",
    "Gln1201Pro\n",
    "Gln1201Pro\n",
    "Val519Glu\n",
    "Ala103Thr\n",
    "Ser544ValfsTer11\n",
    "Gly877Val\n",
    "R517C\n",
    "Ile984Ser\n",
    "Ile984Ser\n",
    "Ile984Ser\n",
    "Arg873Trp\n",
    "Cys1199Tyr\n",
    "R916*\n",
    "Q2232E\n",
    "R1073C\n",
    "K1517E\n",
    "E2269K\n",
    "Y1495H\n",
    "Met1702*\n",
    "Arg313Profs*2\n",
    "Arg137Trp\n",
    "Arg137Trp\n",
    "Arg137Trp\n",
    "Ser230Glnfs*4\n",
    "Leu903Arg\n",
    "Leu1055Pro\n",
    "Glu943*\n",
    "Leu1055Pro\n",
    "Ile984Ser\n",
    "Pro777His\n",
    "Val842Phe\n",
    "Leu1055Pro\n",
    "Val1528Glyfs*2\n",
    "Ile1121Met\n",
    "Lys284*\n",
    "Trp396Arg\n",
    "Arg1004*\n",
    "Gln678*\n",
    "Ser976Profs*16\n",
    "Val253Gly\n",
    "Glu943*\n",
    "M2204Ifs*3\n",
    "Q196*\n",
    "Trp583*\n",
    "Trp583*\n",
    "Ser230fs*4\n",
    "Arg1914His\n",
    "Arg1914His\n",
    "S2166Ffs*\n",
    "Phe167Cysfs7\n",
    "Leu1818fsX16\n",
    "Trp135*\n",
    "His1053Arg\n",
    "Glu2189*\n",
    "Gly254Asp\n",
    "Val892Phe\n",
    "Pro650Ser\n",
    "T1254Hfs*16 \n",
    "p.L373P\n",
    "Arg941His\n",
    "Leu903Arg\n",
    "Ser544fs\n",
    "Arg1914His\n",
    "Met1Leu\n",
    "Arg1914His\n",
    "Gln134Arg\n",
    "Trp934*\n",
    "Leu271Pro\n",
    "Ile984Leufs*8\n",
    "Glu2080*\n",
    "Ser1681Glnfs*37\n",
    "Glu2269*\n",
    "Glu2269*\n",
    "Thr731Pro\n",
    "Pro777His\n",
    "Pro777His\n",
    "His940Pro\n",
    "Glu943*\n",
    "Glu1676Aspfs*10\n",
    "Ser1129Phe\n",
    "Ser1129Phe\n",
    "Gln1201Pro\n",
    "Arg510*\n",
    "Leu2293Cysfs*9\n",
    "Ser230Glnfs*4\n",
    "Trp1850Glyfs*32\n",
    "Phe671Cys\n",
    "Ala1921Pro\n",
    "Cys1199Tyr\n",
    "Ala857Val\n",
    "Cys1199Tyr\n",
    "Arg1914Cys\n",
    "Cys1199Tyr\n",
    "Cys1199Tyr\n",
    "Cys1199Tyr\n",
    "Asp2287Tyr\n",
    "Pro454Arg\n",
    "Arg1914His\n",
    "Thr1918Pro\n",
    "Arg2335Trp\n",
    "2346delLeu\n",
    "Glu804Gly\n",
    "L1549P\n",
    "Arg517Cys\n",
    "Arg1914His\n",
    "Arg1914His\n",
    "Tyr1578dup\n",
    "Val568Ile\n",
    "Pro937Ala\n",
    "Gln1201Pro\n",
    "Gln1201Pro\n",
    "Val519Glu\n",
    "Phe1707Ile\n",
    "Ala409Val\n",
    "Gln1430*\n",
    "E151K\n",
    "Arg136Gly\n",
    "Arg405*\n",
    "Arg405*\n",
    "Cys1199Tyr\n",
    "C1199Y\n",
    "P454R\n",
    "M1743V\n",
    "P1474L\n",
    "E1521Q\n",
    "T1097M\n",
    "C448R \n",
    "\"\"\""
   ]
  },
  {
   "cell_type": "code",
   "execution_count": 96,
   "id": "6884ca00-155b-44ce-ad27-7017cf768c6a",
   "metadata": {
    "tags": []
   },
   "outputs": [
    {
     "name": "stdout",
     "output_type": "stream",
     "text": [
      "[256, 1, 517, 519, 777, 1549, 270, 271, 1053, 1055, 2335, 803, 804, 1578, 2346, 1073, 2104, 568, 64, 1097, 842, 845, 340, 343, 857, 348, 95, 1121, 103, 1129, 873, 877, 373, 1914, 892, 1918, 1921, 134, 903, 136, 137, 650, 396, 151, 409, 1178, 414, 671, 422, 937, 426, 1707, 940, 941, 1708, 1199, 1201, 2232, 187, 447, 448, 1474, 454, 202, 1743, 1495, 984, 731, 2269, 227, 747, 1517, 2287, 1521, 253, 254]\n"
     ]
    }
   ],
   "source": [
    "mutation_numbers_all = set()\n",
    "for mutation in path_var_all.split('\\n'):\n",
    "    if mutation and not any(x in mutation for x in [\"fs\", \"Ter\", \"X\", \"*\"]):\n",
    "        num = ''.join(filter(str.isdigit, mutation))\n",
    "        if num:  # Убедимся, что значение не пустое\n",
    "            mutation_numbers_all.add(int(num))\n",
    "print(list(set(mutation_numbers_all)))"
   ]
  },
  {
   "cell_type": "code",
   "execution_count": null,
   "id": "12b28c9e-b890-4b2b-9f70-b427cbcb6a02",
   "metadata": {},
   "outputs": [],
   "source": []
  }
 ],
 "metadata": {
  "kernelspec": {
   "display_name": "Python 3 (ipykernel)",
   "language": "python",
   "name": "python3"
  },
  "language_info": {
   "codemirror_mode": {
    "name": "ipython",
    "version": 3
   },
   "file_extension": ".py",
   "mimetype": "text/x-python",
   "name": "python",
   "nbconvert_exporter": "python",
   "pygments_lexer": "ipython3",
   "version": "3.7.13"
  }
 },
 "nbformat": 4,
 "nbformat_minor": 5
}
