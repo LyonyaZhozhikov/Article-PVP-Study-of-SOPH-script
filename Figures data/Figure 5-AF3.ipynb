{
 "cells": [
  {
   "cell_type": "markdown",
   "id": "d7fb7a7f",
   "metadata": {
    "jp-MarkdownHeadingCollapsed": true,
    "tags": []
   },
   "source": [
    "# All contact site aa"
   ]
  },
  {
   "cell_type": "code",
   "execution_count": 1,
   "id": "ae63afd1",
   "metadata": {
    "tags": []
   },
   "outputs": [
    {
     "name": "stdout",
     "output_type": "stream",
     "text": [
      "all good\n"
     ]
    }
   ],
   "source": [
    "USE1_cs = [734, 764, 765, 766, 856, 857, 858, 859, 861, 892, 893, 899, 900]\n",
    "ZW10_cs = [1336, 1338, 1339, 1340, 1342, 1343, 1347, 1348, 1350, 1351, 1354, 1357, 1358, 1470, 1473, 1474, 1475, 1476, 1477, 1478, 1479, 1480, 1481, 1490, 1491, 1492, 1493, 1495, 1496, 1497, 1501, 1505, 1508, 1509, 1512, 1515, 1516, 1542, 1543, 1546, 1547, 1549, 1550, 1552, 1568, 1569, 1572, 1573, 1576, 1584, 1585, 1586, 1587, 1588, 1590, 1591, 1592, 1593, 1594, 1595, 1596, 1597, 1598, 1599, 1600, 1601, 1602, 1603, 1605, 1608, 1612, 1640, 1643]\n",
    "RAB18_cs = [1077, 1078, 1081, 1085, 1128, 1179, 1180, 1183, 1184, 1186, 1231, 1233, 1234, 1237]\n",
    "UPF3B_cs = []\n",
    "# Define your lists\n",
    "\n",
    "# Create a dictionary to store the lists and their names\n",
    "lists = {\n",
    "    'USE1_cs': USE1_cs,\n",
    "    'ZW10_cs': ZW10_cs,\n",
    "    'RAB18_cs': RAB18_cs,\n",
    "    'UPF3B_cs': UPF3B_cs\n",
    "}\n",
    "\n",
    "# Variable to track if common elements were found\n",
    "found_common_elements = False\n",
    "\n",
    "# Iterate over each pair of lists and find common elements\n",
    "for list1_name, list1 in lists.items():\n",
    "    for list2_name, list2 in lists.items():\n",
    "        if list1_name != list2_name:  # Ensure we're not comparing the same list\n",
    "            common_elements = set(list1) & set(list2)\n",
    "            if common_elements:\n",
    "                print(f\"Common elements between {list1_name} and {list2_name}: {common_elements}\")\n",
    "                found_common_elements = True\n",
    "\n",
    "# If no common elements were found, print \"all good\"\n",
    "if not found_common_elements:\n",
    "    print(\"all good\")\n"
   ]
  },
  {
   "cell_type": "code",
   "execution_count": 2,
   "id": "66b29b66",
   "metadata": {
    "tags": []
   },
   "outputs": [
    {
     "name": "stdout",
     "output_type": "stream",
     "text": [
      "Minimum value in USE1_cs: 734\n",
      "Maximum value in USE1_cs: 900\n",
      "Minimum value in ZW10_cs: 1336\n",
      "Maximum value in ZW10_cs: 1643\n",
      "Minimum value in RAB18_cs: 1077\n",
      "Maximum value in RAB18_cs: 1237\n"
     ]
    },
    {
     "ename": "ValueError",
     "evalue": "min() arg is an empty sequence",
     "output_type": "error",
     "traceback": [
      "\u001b[1;31m---------------------------------------------------------------------------\u001b[0m",
      "\u001b[1;31mValueError\u001b[0m                                Traceback (most recent call last)",
      "\u001b[1;32m~\\AppData\\Local\\Temp\\ipykernel_22108\\4276769857.py\u001b[0m in \u001b[0;36m<module>\u001b[1;34m\u001b[0m\n\u001b[0;32m      1\u001b[0m \u001b[1;31m# Iterate over each list and print its minimum and maximum values\u001b[0m\u001b[1;33m\u001b[0m\u001b[1;33m\u001b[0m\u001b[1;33m\u001b[0m\u001b[0m\n\u001b[0;32m      2\u001b[0m \u001b[1;32mfor\u001b[0m \u001b[0mlist_name\u001b[0m\u001b[1;33m,\u001b[0m \u001b[0mlst\u001b[0m \u001b[1;32min\u001b[0m \u001b[0mlists\u001b[0m\u001b[1;33m.\u001b[0m\u001b[0mitems\u001b[0m\u001b[1;33m(\u001b[0m\u001b[1;33m)\u001b[0m\u001b[1;33m:\u001b[0m\u001b[1;33m\u001b[0m\u001b[1;33m\u001b[0m\u001b[0m\n\u001b[1;32m----> 3\u001b[1;33m     \u001b[0mmin_val\u001b[0m \u001b[1;33m=\u001b[0m \u001b[0mmin\u001b[0m\u001b[1;33m(\u001b[0m\u001b[0mlst\u001b[0m\u001b[1;33m)\u001b[0m\u001b[1;33m\u001b[0m\u001b[1;33m\u001b[0m\u001b[0m\n\u001b[0m\u001b[0;32m      4\u001b[0m     \u001b[0mmax_val\u001b[0m \u001b[1;33m=\u001b[0m \u001b[0mmax\u001b[0m\u001b[1;33m(\u001b[0m\u001b[0mlst\u001b[0m\u001b[1;33m)\u001b[0m\u001b[1;33m\u001b[0m\u001b[1;33m\u001b[0m\u001b[0m\n\u001b[0;32m      5\u001b[0m     \u001b[0mprint\u001b[0m\u001b[1;33m(\u001b[0m\u001b[1;34mf\"Minimum value in {list_name}: {min_val}\"\u001b[0m\u001b[1;33m)\u001b[0m\u001b[1;33m\u001b[0m\u001b[1;33m\u001b[0m\u001b[0m\n",
      "\u001b[1;31mValueError\u001b[0m: min() arg is an empty sequence"
     ]
    }
   ],
   "source": [
    "# Iterate over each list and print its minimum and maximum values\n",
    "for list_name, lst in lists.items():\n",
    "    min_val = min(lst)\n",
    "    max_val = max(lst)\n",
    "    print(f\"Minimum value in {list_name}: {min_val}\")\n",
    "    print(f\"Maximum value in {list_name}: {max_val}\")"
   ]
  },
  {
   "cell_type": "code",
   "execution_count": 5,
   "id": "9b85fd23-9c32-4f99-9c11-f938ea95274d",
   "metadata": {
    "tags": []
   },
   "outputs": [
    {
     "name": "stdout",
     "output_type": "stream",
     "text": [
      "1594\n"
     ]
    }
   ],
   "source": [
    "def categorize_bfactor(bfactor):\n",
    "    if bfactor > 90:\n",
    "        return \"pLDDT > 90\"\n",
    "    elif 70 < bfactor <= 90:\n",
    "        return \"70 < pLDDT ≤ 90\"\n",
    "    elif 50 < bfactor <= 70:\n",
    "        return \"50 < pLDDT ≤ 70\"\n",
    "    else:\n",
    "        return \"pLDDT ≤ 50\"\n",
    "\n",
    "# Read PDB file and extract B-factor values\n",
    "pdb_file = \"AF-A2RRP1-F1-model_v4.pdb\"\n",
    "bfactor_counts = {\"pLDDT > 90\": [], \"70 < pLDDT ≤ 90\": [], \"50 < pLDDT ≤ 70\": [], \"pLDDT ≤ 50\": []}\n",
    "\n",
    "with open(pdb_file, 'r') as f:\n",
    "    start_c = 1\n",
    "    for line in f:\n",
    "        if line.startswith('ATOM'):\n",
    "            if start_c == int(line[22:26].strip()):\n",
    "                bfactor = float(line[60:66].strip())\n",
    "                category = categorize_bfactor(bfactor)\n",
    "                bfactor_counts[category].append(start_c)\n",
    "                start_c += 1\n",
    "\n",
    "print(len(bfactor_counts[\"70 < pLDDT ≤ 90\"]))"
   ]
  },
  {
   "cell_type": "code",
   "execution_count": 7,
   "id": "f3fa3dac-61e6-4ca8-a230-f8b4c070b47c",
   "metadata": {
    "tags": []
   },
   "outputs": [
    {
     "data": {
      "image/png": "[encoded data removed]",
      "text/plain": [
       "<Figure size 2000x100 with 1 Axes>"
      ]
     },
     "metadata": {},
     "output_type": "display_data"
    }
   ],
   "source": [
    "import matplotlib.pyplot as plt\n",
    "import numpy as np\n",
    "\n",
    "all_affected_aa = [256, 1, 517, 519, 777, 1549, 270, 271, 1053, 1055, 2335, 803, 804, 1578, 2346, 1073, 2104, 568, 64, 1097, 842, 845, 340, 343, 857, 348, 95, 1121, 103, 1129, 873, 877, 373, 1914, 892, 1918, 1921, 134, 903, 136, 137, 650, 396, 151, 409, 1178, 414, 671, 422, 937, 426, 1707, 940, 941, 1708, 1199, 1201, 2232, 187, 447, 448, 1474, 454, 202, 1743, 1495, 984, 731, 2269, 227, 747, 1517, 2287, 1521, 253, 254]\n",
    "\n",
    "# Create the plot\n",
    "plt.figure(figsize=(20, 1))\n",
    "\n",
    "# Plot vertical lines for each affected amino acid\n",
    "for aa in all_affected_aa:\n",
    "    plt.vlines(aa, ymin=0, ymax=2, color='#E4181C', zorder=4)  # zorder ensures the red lines are plotted below other elements\n",
    "\n",
    "# Define tick locations and labels for every 250 points on the x-axis\n",
    "x_ticks = np.arange(0, 2371, 100)\n",
    "x_tick_labels = [str(x) for x in x_ticks]\n",
    "\n",
    "# USE1_cs\n",
    "for aa in USE1_cs:\n",
    "    plt.vlines(aa, ymin=0, ymax=2, color='#0099ff', zorder=2)  # zorder ensures the red lines are plotted below other elements\n",
    "    \n",
    "site_range = range(min(USE1_cs),max(USE1_cs))\n",
    "for aa in site_range:\n",
    "    plt.vlines(aa, ymin=0, ymax=1, color='#0099ff')  # nowar red of RU flag\n",
    "\n",
    "# RAB18_cs\n",
    "for aa in RAB18_cs:\n",
    "    plt.vlines(aa, ymin=0, ymax=2, color='purple', zorder=2)  # zorder ensures the red lines are plotted below other elements\n",
    "    \n",
    "site_range = range(min(RAB18_cs),max(RAB18_cs))\n",
    "for aa in site_range:\n",
    "    plt.vlines(aa, ymin=0, ymax=1, color='purple')  # zorder ensures the red lines are plotted below other elements\n",
    "\n",
    "# ZW10_cs nowar\n",
    "for aa in ZW10_cs:\n",
    "    plt.vlines(aa, ymin=0, ymax=2, color='#ffd700', zorder=3)  # nowar golden of UA flag\n",
    "    \n",
    "site_range = range(min(ZW10_cs),max(ZW10_cs))\n",
    "for aa in site_range:\n",
    "    plt.vlines(aa, ymin=0, ymax=1, color='#ffd700')  # nowar blue of YKT flag\n",
    "# plddt\n",
    "for aa in bfactor_counts[\"70 < pLDDT ≤ 90\"]:\n",
    "    plt.vlines(aa, ymin=2, ymax=3, color='cyan', zorder=2)  # zorder ensures the red lines are plotted below other elements\n",
    "\n",
    "for aa in bfactor_counts[\"pLDDT > 90\"]:\n",
    "    plt.vlines(aa, ymin=2, ymax=3, color='blue', zorder=2)  # zorder ensures the red lines are plotted below other elements\n",
    "\n",
    "for aa in bfactor_counts[\"50 < pLDDT ≤ 70\"]:\n",
    "    plt.vlines(aa, ymin=2, ymax=3, color='yellow', zorder=2)  # zorder ensures the red lines are plotted below other elements\n",
    "\n",
    "for aa in bfactor_counts[\"pLDDT ≤ 50\"]:\n",
    "    plt.vlines(aa, ymin=2, ymax=3, color='orange', zorder=2)  # zorder ensures the red lines are plotted below other elements\n",
    "\n",
    "# Set x and y axis limits\n",
    "plt.xlim(0, 2371)\n",
    "plt.ylim(0, 3)\n",
    "\n",
    "# Set smaller axis values\n",
    "plt.gca().tick_params(axis='x', which='both', labelsize=2)\n",
    "\n",
    "# Set y axis ticks\n",
    "plt.yticks([1, 2], ['', ''])\n",
    "\n",
    "# Set custom tick locations and labels for x-axis\n",
    "plt.xticks(x_ticks, x_tick_labels)\n",
    "\n",
    "# Add labels and title\n",
    "plt.xlabel('')\n",
    "\n",
    "# Adjust the plot for publication quality\n",
    "plt.gca().tick_params(axis='both', which='major', labelsize=14)\n",
    "plt.gca().tick_params(axis='both', which='minor', labelsize=12)\n",
    "plt.gca().spines['top'].set_linewidth(0.5)\n",
    "plt.gca().spines['right'].set_linewidth(0.5)\n",
    "plt.gca().spines['bottom'].set_linewidth(0.5)\n",
    "plt.gca().spines['left'].set_linewidth(0.5)\n",
    "plt.grid(False)\n",
    "\n",
    "# Show the plot\n",
    "plt.show()\n"
   ]
  },
  {
   "cell_type": "markdown",
   "id": "9092b953",
   "metadata": {
    "jp-MarkdownHeadingCollapsed": true,
    "tags": []
   },
   "source": [
    "# pLDDT count for cs, pv and protein"
   ]
  },
  {
   "cell_type": "markdown",
   "id": "a1bf96b6",
   "metadata": {
    "tags": []
   },
   "source": [
    "## PV"
   ]
  },
  {
   "cell_type": "code",
   "execution_count": 52,
   "id": "0f18133f",
   "metadata": {
    "tags": []
   },
   "outputs": [
    {
     "name": "stdout",
     "output_type": "stream",
     "text": [
      "Результаты категоризации B-factor:\n",
      "pLDDT > 90: 16 аминокислот (21.05%)\n",
      "70 < pLDDT ≤ 90: 48 аминокислот (63.16%)\n",
      "50 < pLDDT ≤ 70: 6 аминокислот (7.89%)\n",
      "pLDDT ≤ 50: 6 аминокислот (7.89%)\n",
      "76\n"
     ]
    }
   ],
   "source": [
    "def get_bfactor_for_residues(pdb_file, residue_numbers):\n",
    "    b_factors = []\n",
    "    for residue_number in residue_numbers:\n",
    "        with open(pdb_file, 'r') as f:\n",
    "            for line in f:\n",
    "                if line.startswith('ATOM'):\n",
    "                    atom_residue_number = int(line[22:26].strip())\n",
    "                    if atom_residue_number == residue_number:\n",
    "                        b_factor = float(line[60:66].strip())\n",
    "                        b_factors.append(b_factor)\n",
    "                        break\n",
    "    return b_factors\n",
    "\n",
    "def categorize_bfactor(bfactor):\n",
    "    if bfactor > 90:\n",
    "        return \"pLDDT > 90\"\n",
    "    elif 70 < bfactor <= 90:\n",
    "        return \"70 < pLDDT ≤ 90\"\n",
    "    elif 50 < bfactor <= 70:\n",
    "        return \"50 < pLDDT ≤ 70\"\n",
    "    else:\n",
    "        return \"pLDDT ≤ 50\"\n",
    "\n",
    "# Пример использования:\n",
    "pdb_file = \"AF-A2RRP1-F1-model_v4.pdb\"  # Укажите путь к вашему файлу PDB\n",
    "residue_numbers = [256, 1, 517, 519, 777, 1549, 270, 271, 1053, 1055, 2335, 803, 804, 1578, 2346, 1073, 2104, 568, 64, 1097, 842, 845, 340, 343, 857, 348, 95, 1121, 103, 1129, 873, 877, 373, 1914, 892, 1918, 1921, 134, 903, 136, 137, 650, 396, 151, 409, 1178, 414, 671, 422, 937, 426, 1707, 940, 941, 1708, 1199, 1201, 2232, 187, 447, 448, 1474, 454, 202, 1743, 1495, 984, 731, 2269, 227, 747, 1517, 2287, 1521, 253, 254]\n",
    "\n",
    "b_factors = get_bfactor_for_residues(pdb_file, residue_numbers)\n",
    "if b_factors:\n",
    "    categories_counts = {\"pLDDT > 90\": 0, \"70 < pLDDT ≤ 90\": 0, \"50 < pLDDT ≤ 70\": 0, \"pLDDT ≤ 50\": 0}\n",
    "    total_residues = len(residue_numbers)\n",
    "\n",
    "    for b_factor in b_factors:\n",
    "        category = categorize_bfactor(b_factor)\n",
    "        categories_counts[category] += 1\n",
    "\n",
    "    print(\"Результаты категоризации B-factor:\")\n",
    "    for category, count in categories_counts.items():\n",
    "        percentage = (count / total_residues) * 100\n",
    "        print(f\"{category}: {count} аминокислот ({percentage:.2f}%)\")\n",
    "else:\n",
    "    print(\"ошибка 404\")\n",
    "print(len(residue_numbers))"
   ]
  },
  {
   "cell_type": "markdown",
   "id": "ac463ddd",
   "metadata": {},
   "source": [
    "## CS"
   ]
  },
  {
   "cell_type": "code",
   "execution_count": 10,
   "id": "a3492750-921a-4c59-9f0b-5979edf778ff",
   "metadata": {},
   "outputs": [
    {
     "name": "stdout",
     "output_type": "stream",
     "text": [
      "USE1_cs\n",
      "Результаты категоризации B-factor:\n",
      "pLDDT > 90: 1 аминокислот (7.69%)\n",
      "70 < pLDDT ≤ 90: 11 аминокислот (84.62%)\n",
      "50 < pLDDT ≤ 70: 1 аминокислот (7.69%)\n",
      "pLDDT ≤ 50: 0 аминокислот (0.00%)\n",
      "13\n",
      "\n",
      "\n",
      "ZW10_cs\n",
      "Результаты категоризации B-factor:\n",
      "pLDDT > 90: 0 аминокислот (0.00%)\n",
      "70 < pLDDT ≤ 90: 46 аминокислот (63.01%)\n",
      "50 < pLDDT ≤ 70: 21 аминокислот (28.77%)\n",
      "pLDDT ≤ 50: 6 аминокислот (8.22%)\n",
      "73\n",
      "\n",
      "\n",
      "RAB18_cs\n",
      "Результаты категоризации B-factor:\n",
      "pLDDT > 90: 0 аминокислот (0.00%)\n",
      "70 < pLDDT ≤ 90: 4 аминокислот (28.57%)\n",
      "50 < pLDDT ≤ 70: 10 аминокислот (71.43%)\n",
      "pLDDT ≤ 50: 0 аминокислот (0.00%)\n",
      "14\n",
      "\n",
      "\n"
     ]
    }
   ],
   "source": [
    "def get_bfactor_for_residues(pdb_file, residue_numbers):\n",
    "    b_factors = []\n",
    "    for residue_number in residue_numbers:\n",
    "        with open(pdb_file, 'r') as f:\n",
    "            for line in f:\n",
    "                if line.startswith('ATOM'):\n",
    "                    atom_residue_number = int(line[22:26].strip())\n",
    "                    if atom_residue_number == residue_number:\n",
    "                        b_factor = float(line[60:66].strip())\n",
    "                        b_factors.append(b_factor)\n",
    "                        break\n",
    "    return b_factors\n",
    "\n",
    "def categorize_bfactor(bfactor):\n",
    "    if bfactor > 90:\n",
    "        return \"pLDDT > 90\"\n",
    "    elif 70 < bfactor <= 90:\n",
    "        return \"70 < pLDDT ≤ 90\"\n",
    "    elif 50 < bfactor <= 70:\n",
    "        return \"50 < pLDDT ≤ 70\"\n",
    "    else:\n",
    "        return \"pLDDT ≤ 50\"\n",
    "\n",
    "# Пример использования:\n",
    "pdb_file = \"AF-A2RRP1-F1-model_v4.pdb\"  # Укажите путь к вашему файлу PDB\n",
    "residue_numbers = [USE1_cs, ZW10_cs, RAB18_cs]\n",
    "residue_list = [\"USE1_cs\", \"ZW10_cs\", \"RAB18_cs\"]\n",
    "count_l = 0\n",
    "for q in residue_numbers:\n",
    "    b_factors = get_bfactor_for_residues(pdb_file, q)\n",
    "    if b_factors:\n",
    "        categories_counts = {\"pLDDT > 90\": 0, \"70 < pLDDT ≤ 90\": 0, \"50 < pLDDT ≤ 70\": 0, \"pLDDT ≤ 50\": 0}\n",
    "        total_residues = len(q)\n",
    "        print(residue_list[count_l])\n",
    "        count_l += 1\n",
    "        for b_factor in b_factors:\n",
    "            category = categorize_bfactor(b_factor)\n",
    "            categories_counts[category] += 1\n",
    "    \n",
    "        print(\"Результаты категоризации B-factor:\")\n",
    "        for category, count in categories_counts.items():\n",
    "            percentage = (count / total_residues) * 100\n",
    "            print(f\"{category}: {count} аминокислот ({percentage:.2f}%)\")\n",
    "        print(len(q))\n",
    "        print(\"\\n\")\n",
    "    else:\n",
    "        print(\"ошибка 404\")\n"
   ]
  },
  {
   "cell_type": "markdown",
   "id": "05505e16-169c-47f4-8e08-0c1b29ac9658",
   "metadata": {},
   "source": [
    "#### RAB18"
   ]
  },
  {
   "cell_type": "code",
   "execution_count": 11,
   "id": "28c385b0-638d-4247-a69d-36fe4ae7e9f3",
   "metadata": {},
   "outputs": [
    {
     "data": {
      "image/png": "[encoded data removed]",
      "text/plain": [
       "<Figure size 800x200 with 1 Axes>"
      ]
     },
     "metadata": {},
     "output_type": "display_data"
    }
   ],
   "source": [
    "import matplotlib.pyplot as plt\n",
    "import numpy as np\n",
    "\n",
    "# Data\n",
    "categories = ['RAB18']\n",
    "factors = ['x > 90', '70 < x ≤ 90', '50 < x ≤ 70', 'x ≤ 50']\n",
    "values = np.array([[0, 4, 10, 0]])\n",
    "\n",
    "fig, ax = plt.subplots()\n",
    "\n",
    "colors = ['blue', 'cyan', 'yellow', 'orange']\n",
    "fig.set_size_inches(8, 2)\n",
    "\n",
    "total = np.sum(values)  # Total number of values\n",
    "\n",
    "for i, cat in enumerate(categories):\n",
    "    left = 0\n",
    "    for j, fac in enumerate(factors):\n",
    "        percentage = values[i][j] / total * 100  # Convert to percentage\n",
    "        ax.barh(cat, percentage, color=colors[j], edgecolor='black', left=left, label=fac)\n",
    "        left += percentage\n",
    "\n",
    "plt.xlabel('%', size=30)\n",
    "\n",
    "# Customize ticks\n",
    "plt.xticks(size=40)\n",
    "plt.yticks(size=40)\n",
    "\n",
    "# Remove borders\n",
    "plt.gca().spines['top'].set_visible(False)\n",
    "plt.gca().spines['right'].set_visible(False)\n",
    "plt.gca().spines['bottom'].set_visible(False)\n",
    "plt.gca().spines['left'].set_visible(False)\n",
    "\n",
    "plt.show()\n"
   ]
  },
  {
   "cell_type": "markdown",
   "id": "9706d423-fd7f-4229-b457-a9cfc5f94ddc",
   "metadata": {},
   "source": [
    "#### ZW10"
   ]
  },
  {
   "cell_type": "code",
   "execution_count": 12,
   "id": "5950aa91-5aa5-43fa-bcc4-6cc61b84ca45",
   "metadata": {},
   "outputs": [
    {
     "data": {
      "image/png": "[encoded data removed]",
      "text/plain": [
       "<Figure size 800x200 with 1 Axes>"
      ]
     },
     "metadata": {},
     "output_type": "display_data"
    }
   ],
   "source": [
    "import matplotlib.pyplot as plt\n",
    "import numpy as np\n",
    "\n",
    "# Data\n",
    "categories = ['ZW10']\n",
    "factors = ['x > 90', '70 < x ≤ 90', '50 < x ≤ 70', 'x ≤ 50']\n",
    "values = np.array([[0, 46, 21, 6]])\n",
    "\n",
    "fig, ax = plt.subplots()\n",
    "\n",
    "colors = ['blue', 'cyan', 'yellow', 'orange']\n",
    "fig.set_size_inches(8, 2)\n",
    "\n",
    "total = np.sum(values)  # Total number of values\n",
    "\n",
    "for i, cat in enumerate(categories):\n",
    "    left = 0\n",
    "    for j, fac in enumerate(factors):\n",
    "        percentage = values[i][j] / total * 100  # Convert to percentage\n",
    "        ax.barh(cat, percentage, color=colors[j], edgecolor='black', left=left, label=fac)\n",
    "        left += percentage\n",
    "\n",
    "plt.xlabel('%', size=30)\n",
    "\n",
    "# Customize ticks\n",
    "plt.xticks(size=40)\n",
    "plt.yticks(size=40)\n",
    "\n",
    "# Remove borders\n",
    "plt.gca().spines['top'].set_visible(False)\n",
    "plt.gca().spines['right'].set_visible(False)\n",
    "plt.gca().spines['bottom'].set_visible(False)\n",
    "plt.gca().spines['left'].set_visible(False)\n",
    "\n",
    "plt.show()\n"
   ]
  },
  {
   "cell_type": "markdown",
   "id": "eeb68b19-f5d4-4913-a3a1-764b79947842",
   "metadata": {},
   "source": [
    "#### USE1"
   ]
  },
  {
   "cell_type": "code",
   "execution_count": 13,
   "id": "c8f95e71-9166-4dee-a0db-cfa3e1dcf179",
   "metadata": {},
   "outputs": [
    {
     "data": {
      "image/png": "[encoded data removed]",
      "text/plain": [
       "<Figure size 800x200 with 1 Axes>"
      ]
     },
     "metadata": {},
     "output_type": "display_data"
    }
   ],
   "source": [
    "import matplotlib.pyplot as plt\n",
    "import numpy as np\n",
    "\n",
    "# Data\n",
    "categories = ['USE1']\n",
    "factors = ['x > 90', '70 < x ≤ 90', '50 < x ≤ 70', 'x ≤ 50']\n",
    "values = np.array([[1, 11, 1, 0]])\n",
    "\n",
    "fig, ax = plt.subplots()\n",
    "\n",
    "colors = ['blue', 'cyan', 'yellow', 'orange']\n",
    "fig.set_size_inches(8, 2)\n",
    "\n",
    "total = np.sum(values)  # Total number of values\n",
    "\n",
    "for i, cat in enumerate(categories):\n",
    "    left = 0\n",
    "    for j, fac in enumerate(factors):\n",
    "        percentage = values[i][j] / total * 100  # Convert to percentage\n",
    "        ax.barh(cat, percentage, color=colors[j], edgecolor='black', left=left, label=fac)\n",
    "        left += percentage\n",
    "\n",
    "plt.xlabel('%', size=30)\n",
    "\n",
    "# Customize ticks\n",
    "plt.xticks(size=40)\n",
    "plt.yticks(size=40)\n",
    "\n",
    "# Remove borders\n",
    "plt.gca().spines['top'].set_visible(False)\n",
    "plt.gca().spines['right'].set_visible(False)\n",
    "plt.gca().spines['bottom'].set_visible(False)\n",
    "plt.gca().spines['left'].set_visible(False)\n",
    "\n",
    "plt.show()\n"
   ]
  },
  {
   "cell_type": "markdown",
   "id": "64dd0dc7-8740-47b2-b254-9a5d316f04e3",
   "metadata": {},
   "source": [
    "## PV"
   ]
  },
  {
   "cell_type": "code",
   "execution_count": null,
   "id": "1d26203d-5556-4765-bcd3-c7598bd5e5ee",
   "metadata": {},
   "outputs": [],
   "source": [
    "import matplotlib.pyplot as plt\n",
    "import numpy as np\n",
    "\n",
    "# Data\n",
    "categories = ['PV']\n",
    "factors = ['x > 90', '70 < x ≤ 90', '50 < x ≤ 70', 'x ≤ 50']\n",
    "values = np.array([[16, 48, 6, 6]])\n",
    "\n",
    "fig, ax = plt.subplots()\n",
    "\n",
    "colors = ['blue', 'cyan', 'yellow', 'orange']\n",
    "fig.set_size_inches(8, 2)\n",
    "\n",
    "total = np.sum(values)  # Total number of values\n",
    "\n",
    "for i, cat in enumerate(categories):\n",
    "    left = 0\n",
    "    for j, fac in enumerate(factors):\n",
    "        percentage = values[i][j] / total * 100  # Convert to percentage\n",
    "        ax.barh(cat, percentage, color=colors[j], edgecolor='black', left=left, label=fac)\n",
    "        left += percentage\n",
    "\n",
    "plt.xlabel('%', size=30)\n",
    "\n",
    "# Customize ticks\n",
    "plt.xticks(size=40)\n",
    "plt.yticks(size=40)\n",
    "\n",
    "# Remove borders\n",
    "plt.gca().spines['top'].set_visible(False)\n",
    "plt.gca().spines['right'].set_visible(False)\n",
    "plt.gca().spines['bottom'].set_visible(False)\n",
    "plt.gca().spines['left'].set_visible(False)\n",
    "\n",
    "plt.show()\n"
   ]
  },
  {
   "cell_type": "markdown",
   "id": "25572d5a",
   "metadata": {},
   "source": [
    "## NBAS"
   ]
  },
  {
   "cell_type": "code",
   "execution_count": null,
   "id": "e1eec95b-be1b-4883-9f50-acd6cad23b39",
   "metadata": {},
   "outputs": [],
   "source": [
    "import matplotlib.pyplot as plt\n",
    "import numpy as np\n",
    "\n",
    "# Data\n",
    "categories = ['NBAS']\n",
    "factors = ['x > 90', '70 < x ≤ 90', '50 < x ≤ 70', 'x ≤ 50']\n",
    "values = np.array([[180, 1594, 334, 263]])\n",
    "\n",
    "fig, ax = plt.subplots()\n",
    "\n",
    "colors = ['blue', 'cyan', 'yellow', 'orange']\n",
    "fig.set_size_inches(8, 2)\n",
    "\n",
    "total = np.sum(values)  # Total number of values\n",
    "\n",
    "for i, cat in enumerate(categories):\n",
    "    left = 0\n",
    "    for j, fac in enumerate(factors):\n",
    "        percentage = values[i][j] / total * 100  # Convert to percentage\n",
    "        ax.barh(cat, percentage, color=colors[j], edgecolor='black', left=left, label=fac)\n",
    "        left += percentage\n",
    "\n",
    "plt.xlabel('%', size=30)\n",
    "\n",
    "# Customize ticks\n",
    "plt.xticks(size=40)\n",
    "plt.yticks(size=40)\n",
    "\n",
    "# Remove borders\n",
    "plt.gca().spines['top'].set_visible(False)\n",
    "plt.gca().spines['right'].set_visible(False)\n",
    "plt.gca().spines['bottom'].set_visible(False)\n",
    "plt.gca().spines['left'].set_visible(False)\n",
    "\n",
    "plt.show()\n"
   ]
  },
  {
   "cell_type": "code",
   "execution_count": 4,
   "id": "94e2e306",
   "metadata": {},
   "outputs": [
    {
     "name": "stdout",
     "output_type": "stream",
     "text": [
      "B-Factor Ranges for the NBAS Protein:\n",
      "pLDDT > 90: 180 atoms (7.59%)\n",
      "70 < pLDDT ≤ 90: 1594 atoms (67.23%)\n",
      "50 < pLDDT ≤ 70: 334 atoms (14.09%)\n",
      "pLDDT ≤ 50: 263 atoms (11.09%)\n"
     ]
    }
   ],
   "source": [
    "def categorize_bfactor(bfactor):\n",
    "    if bfactor > 90:\n",
    "        return \"pLDDT > 90\"\n",
    "    elif 70 < bfactor <= 90:\n",
    "        return \"70 < pLDDT ≤ 90\"\n",
    "    elif 50 < bfactor <= 70:\n",
    "        return \"50 < pLDDT ≤ 70\"\n",
    "    else:\n",
    "        return \"pLDDT ≤ 50\"\n",
    "\n",
    "# Read PDB file and extract B-factor values\n",
    "pdb_file = \"AF-A2RRP1-F1-model_v4.pdb\"\n",
    "bfactor_counts = {\"pLDDT > 90\": 0, \"70 < pLDDT ≤ 90\": 0, \"50 < pLDDT ≤ 70\": 0, \"pLDDT ≤ 50\": 0}\n",
    "\n",
    "with open(pdb_file, 'r') as f:\n",
    "    start_c = 1\n",
    "    for line in f:\n",
    "        if line.startswith('ATOM'):\n",
    "            if start_c == int(line[22:26].strip()):\n",
    "                bfactor = float(line[60:66].strip())\n",
    "                category = categorize_bfactor(bfactor)\n",
    "                bfactor_counts[category] += 1\n",
    "                start_c += 1\n",
    "\n",
    "\n",
    "print(\"B-Factor Ranges for the NBAS Protein:\")\n",
    "for category, count in bfactor_counts.items():\n",
    "    total_atoms = sum(bfactor_counts.values())\n",
    "    percentage = (count / total_atoms) * 100 if total_atoms != 0 else 0\n",
    "    print(f\"{category}: {count} atoms ({percentage:.2f}%)\")\n"
   ]
  },
  {
   "cell_type": "markdown",
   "id": "d6f03771-86f2-4864-9c81-6ac21e2b38e0",
   "metadata": {
    "jp-MarkdownHeadingCollapsed": true,
    "tags": []
   },
   "source": [
    "# AF3 cif mean"
   ]
  },
  {
   "cell_type": "code",
   "execution_count": 9,
   "id": "f5eb9bc2-f7cb-4e48-844a-9543e08f100f",
   "metadata": {},
   "outputs": [
    {
     "name": "stdout",
     "output_type": "stream",
     "text": [
      "B-Factor Ranges for the NBAS Protein:\n",
      "pLDDT > 90: 66 atoms (2.78%)\n",
      "70 < pLDDT ≤ 90: 1826 atoms (77.01%)\n",
      "50 < pLDDT ≤ 70: 276 atoms (11.64%)\n",
      "pLDDT ≤ 50: 203 atoms (8.56%)\n"
     ]
    }
   ],
   "source": [
    "# Import necessary libraries\n",
    "import pandas as pd\n",
    "from Bio.PDB import MMCIFParser\n",
    "\n",
    "# Function to extract B-factors from a CIF file\n",
    "def extract_b_factors(file_path):\n",
    "    parser = MMCIFParser()\n",
    "    structure = parser.get_structure('protein', file_path)\n",
    "    \n",
    "    b_factors = []\n",
    "    for model in structure:\n",
    "        for chain in model:\n",
    "            for residue in chain:\n",
    "                res_id = residue.get_id()\n",
    "                for atom in residue:\n",
    "                    b_factors.append({\n",
    "                        'residue': res_id,\n",
    "                        'b_factor': atom.get_bfactor()\n",
    "                    })\n",
    "    \n",
    "    df = pd.DataFrame(b_factors)\n",
    "    return df\n",
    "\n",
    "# Function to calculate mean B-factors for each residue\n",
    "def calculate_mean_b_factors(dfs):\n",
    "    all_b_factors = pd.concat(dfs, ignore_index=True)\n",
    "    mean_b_factors = all_b_factors.groupby('residue')['b_factor'].mean().reset_index()\n",
    "    return mean_b_factors\n",
    "\n",
    "# Function to categorize mean B-factors and count residues in each category\n",
    "def categorize_mean_b_factors(mean_b_factors_df):\n",
    "    bfactor_counts = {\"pLDDT > 90\": 0, \"70 < pLDDT ≤ 90\": 0, \"50 < pLDDT ≤ 70\": 0, \"pLDDT ≤ 50\": 0}\n",
    "    \n",
    "    for _, row in mean_b_factors_df.iterrows():\n",
    "        mean_b_factor = row['b_factor']\n",
    "        \n",
    "        if mean_b_factor > 90:\n",
    "            bfactor_counts[\"pLDDT > 90\"] += 1\n",
    "        elif 70 < mean_b_factor <= 90:\n",
    "            bfactor_counts[\"70 < pLDDT ≤ 90\"] += 1\n",
    "        elif 50 < mean_b_factor <= 70:\n",
    "            bfactor_counts[\"50 < pLDDT ≤ 70\"] += 1\n",
    "        else:\n",
    "            bfactor_counts[\"pLDDT ≤ 50\"] += 1\n",
    "    \n",
    "    return bfactor_counts\n",
    "\n",
    "# List of CIF file paths\n",
    "cif_files = [\n",
    "    'AF3//0_NBAS//fold_nbas_model_0.cif',\n",
    "    'AF3//0_NBAS//fold_nbas_model_1.cif',\n",
    "    'AF3//0_NBAS//fold_nbas_model_2.cif',\n",
    "    'AF3//0_NBAS//fold_nbas_model_3.cif',\n",
    "    'AF3//0_NBAS//fold_nbas_model_4.cif'\n",
    "]\n",
    "\n",
    "# Extract B-factors from all CIF files and store in a list of DataFrames\n",
    "dfs = [extract_b_factors(file_path) for file_path in cif_files]\n",
    "\n",
    "# Save each DataFrame of B-factors to a file\n",
    "for i, df in enumerate(dfs):\n",
    "    df.to_csv(f'b_factors_file{i+1}.csv', index=False)\n",
    "\n",
    "# Calculate mean B-factors across all CIF files\n",
    "mean_b_factors = calculate_mean_b_factors(dfs)\n",
    "\n",
    "# Save the mean B-factors DataFrame to a file\n",
    "mean_b_factors.to_csv('mean_b_factors.csv', index=False)\n",
    "\n",
    "# Categorize and count mean B-factors\n",
    "bfactor_counts = categorize_mean_b_factors(mean_b_factors)\n",
    "\n",
    "# Print the categorized B-factor counts\n",
    "print(\"B-Factor Ranges for the NBAS Protein:\")\n",
    "for category, count in bfactor_counts.items():\n",
    "    total_atoms = sum(bfactor_counts.values())\n",
    "    percentage = (count / total_atoms) * 100 if total_atoms != 0 else 0\n",
    "    print(f\"{category}: {count} atoms ({percentage:.2f}%)\")\n"
   ]
  },
  {
   "cell_type": "code",
   "execution_count": 11,
   "id": "53e5b956-58d7-4106-a9ea-cc7b2f593773",
   "metadata": {},
   "outputs": [
    {
     "data": {
      "image/png": "[encoded data removed]",
      "text/plain": [
       "<Figure size 800x200 with 1 Axes>"
      ]
     },
     "metadata": {},
     "output_type": "display_data"
    }
   ],
   "source": [
    "import matplotlib.pyplot as plt\n",
    "import numpy as np\n",
    "\n",
    "# Data\n",
    "categories = ['NBAS']\n",
    "factors = ['x > 90', '70 < x ≤ 90', '50 < x ≤ 70', 'x ≤ 50']\n",
    "values = np.array([[66, 1826, 276, 203]])\n",
    "\n",
    "fig, ax = plt.subplots()\n",
    "\n",
    "colors = ['blue', 'cyan', 'yellow', 'orange']\n",
    "fig.set_size_inches(8, 2)\n",
    "\n",
    "total = np.sum(values)  # Total number of values\n",
    "\n",
    "for i, cat in enumerate(categories):\n",
    "    left = 0\n",
    "    for j, fac in enumerate(factors):\n",
    "        percentage = values[i][j] / total * 100  # Convert to percentage\n",
    "        ax.barh(cat, percentage, color=colors[j], edgecolor='black', left=left, label=fac)\n",
    "        left += percentage\n",
    "\n",
    "plt.xlabel('%', size=30)\n",
    "\n",
    "# Customize ticks\n",
    "plt.xticks(size=40)\n",
    "plt.yticks(size=40)\n",
    "\n",
    "# Remove borders\n",
    "plt.gca().spines['top'].set_visible(False)\n",
    "plt.gca().spines['right'].set_visible(False)\n",
    "plt.gca().spines['bottom'].set_visible(False)\n",
    "plt.gca().spines['left'].set_visible(False)\n",
    "\n",
    "plt.show()\n"
   ]
  },
  {
   "cell_type": "markdown",
   "id": "7638d800-90f7-48af-bbda-5e3ebff34b41",
   "metadata": {},
   "source": [
    "# pymol commands"
   ]
  },
  {
   "cell_type": "raw",
   "id": "0435c428-e61b-4b7e-bbae-a5807a11c1df",
   "metadata": {},
   "source": [
    "# set to publication quality preset action using UI"
   ]
  },
  {
   "cell_type": "raw",
   "id": "483fda1a-e6e8-41a0-968e-ab582196c96a",
   "metadata": {},
   "source": [
    "spectrum b, orange yellow yellow yellow yellow yellow yellow yellow yellow yellow yellow yellow yellow yellow yellow yellow yellow yellow yellow yellow lanthanum lanthanum lanthanum lanthanum lanthanum lanthanum lanthanum lanthanum lanthanum lanthanum lanthanum lanthanum lanthanum lanthanum lanthanum lanthanum lanthanum lanthanum lanthanum lanthanum blue blue blue blue blue blue blue blue blue blue, minimum=50, maximum=100"
   ]
  },
  {
   "cell_type": "raw",
   "id": "aa0a656a-b6a2-4548-9b2d-12dc2ae0e433",
   "metadata": {},
   "source": [
    "set cartoon_transparency, 0.7"
   ]
  },
  {
   "cell_type": "raw",
   "id": "549ffbbf-ffbb-409a-bbee-66b2917ba4a6",
   "metadata": {},
   "source": [
    "select USE1_cs_residues, resi 734+764+765+766+856+857+858+859+861+892+893+899+900\n"
   ]
  },
  {
   "cell_type": "raw",
   "id": "4d978271-1bf5-4017-b0fd-b5b61ca9c569",
   "metadata": {},
   "source": [
    "color cyan, USE1_cs_residues"
   ]
  },
  {
   "cell_type": "raw",
   "id": "98ccb444-ad91-4449-a315-ae881c12ba59",
   "metadata": {},
   "source": [
    "set cartoon_transparency, 0, USE1_cs_residues"
   ]
  },
  {
   "cell_type": "raw",
   "id": "60bb8a33-3409-4eba-98c1-5169f14aa26b",
   "metadata": {},
   "source": [
    "select ZW10_cs_residues, resi 1336+1338+1339+1340+1342+1343+1347+1348+1350+1351+1354+1357+1358+1470+1473+1474+1475+1476+1477+1478+1479+1480+1481+1490+1491+1492+1493+1495+1496+1497+1501+1505+1508+1509+1512+1515+1516+1542+1543+1546+1547+1549+1550+1552+1568+1569+1572+1573+1576+1584+1585+1586+1587+1588+1590+1591+1592+1593+1594+1595+1596+1597+1598+1599+1600+1601+1602+1603+1605+1608+1612+1640+1643\n"
   ]
  },
  {
   "cell_type": "raw",
   "id": "da39137d-0a75-4bc0-8e6a-15924c4152d3",
   "metadata": {},
   "source": [
    "color yellow, ZW10_cs_residues"
   ]
  },
  {
   "cell_type": "raw",
   "id": "53de4d57-77df-4661-9946-08499223bc12",
   "metadata": {},
   "source": [
    "set cartoon_transparency, 0, ZW10_cs_residues "
   ]
  },
  {
   "cell_type": "raw",
   "id": "a4839a2b-785d-4683-a7cc-99bc40b05cd9",
   "metadata": {},
   "source": [
    "select RAB18_cs_residues, resi 1077+1078+1081+1085+1128+1179+1180+1183+1184+1186+1231+1233+1234+1237\n"
   ]
  },
  {
   "cell_type": "raw",
   "id": "a7456037-0732-4384-9b6d-5b1030560b0f",
   "metadata": {},
   "source": [
    "color purple, RAB18_cs_residues\n"
   ]
  },
  {
   "cell_type": "raw",
   "id": "81fd861b-aa3d-413f-b6b4-e4328937d4f1",
   "metadata": {},
   "source": [
    "set cartoon_transparency, 0, RAB18_cs_residues"
   ]
  },
  {
   "cell_type": "raw",
   "id": "bdcb8fb6-15af-42a2-b1de-2626f0006d79",
   "metadata": {},
   "source": [
    "select PV, resi 256+1+517+519+777+1549+270+271+1053+1055+2335+803+804+1578+2346+1073+2104+568+64+1097+842+845+340+343+857+348+95+1121+103+1129+873+877+373+1914+892+1918+1921+134+903+136+137+650+396+151+409+1178+414+671+422+937+426+1707+940+941+1708+1199+1201+2232+187+447+448+1474+454+202+1743+1495+984+731+2269+227+747+1517+2287+1521+253+254"
   ]
  },
  {
   "cell_type": "raw",
   "id": "da05d27f-a651-46d7-bcd3-1e26ef5d986c",
   "metadata": {},
   "source": [
    "color red and sticks using UI"
   ]
  },
  {
   "cell_type": "raw",
   "id": "6bfe9fc5-4ed1-440c-93c3-0b9dfa88dd5e",
   "metadata": {},
   "source": [
    "label PV and n. CA, \"%s%s\" % (resi, resn)\n"
   ]
  },
  {
   "cell_type": "raw",
   "id": "acb761e6-d04a-4562-bccd-e0c041fb19da",
   "metadata": {},
   "source": [
    "cmd.set(\"label_color\", \"black\", selection=\"PV and n. CA\")\n"
   ]
  },
  {
   "cell_type": "raw",
   "id": "9871efd7-d4c8-4ea2-9efd-21b4d86aad17",
   "metadata": {},
   "source": [
    "hide everything, (resi 1-700)\n"
   ]
  },
  {
   "cell_type": "raw",
   "id": "5a3a7059-8eec-47c1-9549-9356f6a4307e",
   "metadata": {},
   "source": [
    "# position your molecul"
   ]
  },
  {
   "cell_type": "raw",
   "id": "d87b4fc3-2c8b-4c38-bbd0-68361106eafe",
   "metadata": {},
   "source": [
    "ray 1920, 1920"
   ]
  },
  {
   "cell_type": "raw",
   "id": "52bd31f6-a92c-4cfd-aa84-d78512905ddc",
   "metadata": {},
   "source": [
    "# set your woprking directory"
   ]
  },
  {
   "cell_type": "raw",
   "id": "6ee00c97-c157-4c72-9a1e-533f0012d12c",
   "metadata": {},
   "source": [
    "cmd.png(\"NBAS_cterm.png\", dpi=300)"
   ]
  },
  {
   "cell_type": "raw",
   "id": "3d42057f-8209-45c2-bb3c-a5706d72dcc3",
   "metadata": {},
   "source": [
    "hide everything, (resi 700-2371)\n"
   ]
  },
  {
   "cell_type": "raw",
   "id": "a542a2d3-ca21-49ff-b4f2-8bb227f424a5",
   "metadata": {},
   "source": [
    "ray 1920, 1920"
   ]
  },
  {
   "cell_type": "raw",
   "id": "c13bd6f0-864d-4d68-a867-00adfd96f19e",
   "metadata": {},
   "source": [
    "cmd.png(\"NBAS_nterm.png\", dpi=300)\n"
   ]
  },
  {
   "cell_type": "markdown",
   "id": "3d689592-0ada-4132-afcf-8d3a94ebd753",
   "metadata": {},
   "source": [
    "# find PV"
   ]
  },
  {
   "cell_type": "code",
   "execution_count": 82,
   "id": "e0b9c680-f718-4e38-b997-a69a5b331756",
   "metadata": {
    "tags": []
   },
   "outputs": [],
   "source": [
    "path_var_mis = \"\"\"\n",
    "Arg137Trp\n",
    "Leu903Arg\n",
    "Arg137Trp\n",
    "Arg137Trp\n",
    "Gly254Asp\n",
    "Gly340Arg\n",
    "Pro650Ser\n",
    "p.R2104Q\n",
    "Arg941His\n",
    "Leu903Arg\n",
    "Arg1914His\n",
    "Ser1129Phe\n",
    "Trp845Cys\n",
    "Leu271Pro\n",
    "Thr731Pro\n",
    "Pro777His\n",
    "His940Pro\n",
    "Ser1129Phe\n",
    "Gln1201Pro\n",
    "Cys256Tyr\n",
    "Trp845Cys\n",
    "Gly340Arg\n",
    "Ser343Asn\n",
    "Tyr747Asp\n",
    "Arg517Cys\n",
    "Cys1199Tyr\n",
    "Leu422Pro\n",
    "Arg1914His\n",
    "Arg64His\n",
    "Pro937Ala\n",
    "Gln1201Pro\n",
    "Val519Glu\n",
    "Ala103Thr\n",
    "Arg517Cys\n",
    "Ile984Ser\n",
    "Cys1199Tyr\n",
    "Gln2232Glu\n",
    "Arg1073Cys\n",
    "Lys1517Glu\n",
    "Glu2269Lys\n",
    "Tyr1495His\n",
    "Arg137Trp\n",
    "Leu903Arg\n",
    "Leu1055Pro\n",
    "Trp396Arg\n",
    "Val253Gly\n",
    "Gly254Asp\n",
    "Val892Phe\n",
    "Pro650Ser\n",
    "p.L373P\n",
    "Arg941His\n",
    "Leu903Arg\n",
    "Met1Leu\n",
    "Arg1914His\n",
    "Leu271Pro\n",
    "Thr731Pro\n",
    "Pro777His\n",
    "His940Pro\n",
    "Ser1129Phe\n",
    "Gln1201Pro\n",
    "Phe671Cys\n",
    "Ala1921Pro\n",
    "Arg1914Cys\n",
    "Cys1199Tyr\n",
    "Arg1914His\n",
    "Arg2335Trp\n",
    "Leu1549Pro\n",
    "Arg517Cys\n",
    "Arg1914His\n",
    "Val568Ile\n",
    "Pro937Ala\n",
    "Gln1201Pro\n",
    "Val519Glu\n",
    "Phe1707Ile\n",
    "Glu151Lys\n",
    "Arg136Gly\n",
    "Cys1199Tyr\n",
    "Pro454Arg\n",
    "Met1743Val\n",
    "Pro1474Leu\n",
    "Glu1521Gln\n",
    "Thr1097Met\n",
    "\"\"\""
   ]
  },
  {
   "cell_type": "code",
   "execution_count": 84,
   "id": "57fc81d0-31e1-40d2-924d-6d0b49254e23",
   "metadata": {
    "tags": []
   },
   "outputs": [],
   "source": [
    "mutation_numbers_mis = set() # for missence\n",
    "for mutation in path_var_mis.split('\\n'):\n",
    "    if mutation:\n",
    "        num = ''.join(filter(str.isdigit, mutation))\n",
    "        if num:  # Убедимся, что значение не пустое\n",
    "            mutation_numbers_mis.add(int(num)) "
   ]
  },
  {
   "cell_type": "code",
   "execution_count": 86,
   "id": "23a83832-79af-4393-8cac-9e7e62b8370d",
   "metadata": {
    "tags": []
   },
   "outputs": [
    {
     "name": "stdout",
     "output_type": "stream",
     "text": [
      "{256, 1, 1921, 517, 903, 519, 137, 650, 777, 396, 1549, 136, 271, 151, 1055, 671, 2335, 422, 937, 1707, 940, 941, 1199, 1201, 1073, 2104, 2232, 568, 64, 1474, 454, 1097, 845, 1743, 340, 343, 984, 1495, 731, 2269, 103, 1129, 747, 1517, 1521, 373, 1914, 892, 253, 254}\n"
     ]
    }
   ],
   "source": [
    "print(mutation_numbers_mis)"
   ]
  },
  {
   "cell_type": "code",
   "execution_count": 88,
   "id": "ef47c8df-dd31-4047-a40c-1aee6dfa9739",
   "metadata": {
    "tags": []
   },
   "outputs": [],
   "source": [
    "path_var_all = \"\"\"Arg137Trp\n",
    "Arg137Trp\n",
    "Arg137Trp\n",
    "Ile187del\n",
    "Leu903Arg\n",
    "Leu202del\n",
    "Leu903Arg\n",
    "Arg1004*\n",
    "Ile512Thrfs*4\n",
    "Pro348Ser\n",
    "Pro348Ser\n",
    "Trp396*\n",
    "Ser230Glnfs*4\n",
    "Glu943*\n",
    "Cys426Trp\n",
    "Ala95Val\n",
    "Arg137Trp\n",
    "Arg1914His\n",
    "Arg1914His\n",
    "Gly270Ala\n",
    "Arg137Trp\n",
    "Arg1914His\n",
    "C1199Y\n",
    "C1199Y\n",
    "E803K\n",
    "His227Pro\n",
    "His227Pro\n",
    "Arg1914His\n",
    "R1914H\n",
    "Thr1918Pro\n",
    "Glu447Lys\n",
    "C1199Y\n",
    "Arg501*\n",
    "Ser230Glnfs*4\n",
    "Arg1914His\n",
    "Ile984Leufs*8\n",
    "Arg1914His\n",
    "Gly254Asp\n",
    "Gly340Arg\n",
    "Pro650Ser\n",
    "p.R2104Q\n",
    "Arg941His\n",
    "Leu903Arg\n",
    "Arg1914His\n",
    "Arg1914His\n",
    "Arg1914His\n",
    "Ser6*\n",
    "Ser1129Phe\n",
    "Trp845Cys\n",
    "Ala95Val\n",
    "Leu271Pro\n",
    "Ser414Phe\n",
    "Ser414Phe\n",
    "Arg517Cys\n",
    "Arg517His\n",
    "Arg517His\n",
    "Thr731Pro\n",
    "Pro777His\n",
    "Pro777His\n",
    "Pro937Ala\n",
    "His940Pro\n",
    "Ile984Ser\n",
    "Leu1055Pro\n",
    "Ile1121Met\n",
    "Ser1129Phe\n",
    "Ser1129Phe\n",
    "Ser1178Arg\n",
    "Gln1201Pro\n",
    "Leu1708Pro\n",
    "Arg1914His\n",
    "Arg1914Gly\n",
    "Ala1921Pro\n",
    "Gln2322Hisfs*18\n",
    "Cys256Tyr\n",
    "Trp845Cys\n",
    "Tyr142*\n",
    "Phe167LeufsTer10\n",
    "Gly340Arg\n",
    "Trp1095*\n",
    "Ala1146GlnfsTer14\n",
    "Arg941His\n",
    "Phe231ThrfsTer35\n",
    "Ser343Asn\n",
    "Val393ArgfsTer2\n",
    "Tyr747Asp\n",
    "Gln1039*\n",
    "Ser230Glnfs*4\n",
    "Arg1914His\n",
    "R517C\n",
    "C1199Y\n",
    "Leu422Pro\n",
    "Arg1914His\n",
    "Arg1914His\n",
    "Tyr1578dup\n",
    "Arg64His\n",
    "Pro937Ala\n",
    "Gln1201Pro\n",
    "Gln1201Pro\n",
    "Val519Glu\n",
    "Ala103Thr\n",
    "Ser544ValfsTer11\n",
    "Gly877Val\n",
    "R517C\n",
    "Ile984Ser\n",
    "Ile984Ser\n",
    "Ile984Ser\n",
    "Arg873Trp\n",
    "Cys1199Tyr\n",
    "R916*\n",
    "Q2232E\n",
    "R1073C\n",
    "K1517E\n",
    "E2269K\n",
    "Y1495H\n",
    "Met1702*\n",
    "Arg313Profs*2\n",
    "Arg137Trp\n",
    "Arg137Trp\n",
    "Arg137Trp\n",
    "Ser230Glnfs*4\n",
    "Leu903Arg\n",
    "Leu1055Pro\n",
    "Glu943*\n",
    "Leu1055Pro\n",
    "Ile984Ser\n",
    "Pro777His\n",
    "Val842Phe\n",
    "Leu1055Pro\n",
    "Val1528Glyfs*2\n",
    "Ile1121Met\n",
    "Lys284*\n",
    "Trp396Arg\n",
    "Arg1004*\n",
    "Gln678*\n",
    "Ser976Profs*16\n",
    "Val253Gly\n",
    "Glu943*\n",
    "M2204Ifs*3\n",
    "Q196*\n",
    "Trp583*\n",
    "Trp583*\n",
    "Ser230fs*4\n",
    "Arg1914His\n",
    "Arg1914His\n",
    "S2166Ffs*\n",
    "Phe167Cysfs7\n",
    "Leu1818fsX16\n",
    "Trp135*\n",
    "His1053Arg\n",
    "Glu2189*\n",
    "Gly254Asp\n",
    "Val892Phe\n",
    "Pro650Ser\n",
    "T1254Hfs*16 \n",
    "p.L373P\n",
    "Arg941His\n",
    "Leu903Arg\n",
    "Ser544fs\n",
    "Arg1914His\n",
    "Met1Leu\n",
    "Arg1914His\n",
    "Gln134Arg\n",
    "Trp934*\n",
    "Leu271Pro\n",
    "Ile984Leufs*8\n",
    "Glu2080*\n",
    "Ser1681Glnfs*37\n",
    "Glu2269*\n",
    "Glu2269*\n",
    "Thr731Pro\n",
    "Pro777His\n",
    "Pro777His\n",
    "His940Pro\n",
    "Glu943*\n",
    "Glu1676Aspfs*10\n",
    "Ser1129Phe\n",
    "Ser1129Phe\n",
    "Gln1201Pro\n",
    "Arg510*\n",
    "Leu2293Cysfs*9\n",
    "Ser230Glnfs*4\n",
    "Trp1850Glyfs*32\n",
    "Phe671Cys\n",
    "Ala1921Pro\n",
    "Cys1199Tyr\n",
    "Ala857Val\n",
    "Cys1199Tyr\n",
    "Arg1914Cys\n",
    "Cys1199Tyr\n",
    "Cys1199Tyr\n",
    "Cys1199Tyr\n",
    "Asp2287Tyr\n",
    "Pro454Arg\n",
    "Arg1914His\n",
    "Thr1918Pro\n",
    "Arg2335Trp\n",
    "2346delLeu\n",
    "Glu804Gly\n",
    "L1549P\n",
    "Arg517Cys\n",
    "Arg1914His\n",
    "Arg1914His\n",
    "Tyr1578dup\n",
    "Val568Ile\n",
    "Pro937Ala\n",
    "Gln1201Pro\n",
    "Gln1201Pro\n",
    "Val519Glu\n",
    "Phe1707Ile\n",
    "Ala409Val\n",
    "Gln1430*\n",
    "E151K\n",
    "Arg136Gly\n",
    "Arg405*\n",
    "Arg405*\n",
    "Cys1199Tyr\n",
    "C1199Y\n",
    "P454R\n",
    "M1743V\n",
    "P1474L\n",
    "E1521Q\n",
    "T1097M\n",
    "C448R \n",
    "\"\"\""
   ]
  },
  {
   "cell_type": "code",
   "execution_count": 96,
   "id": "6884ca00-155b-44ce-ad27-7017cf768c6a",
   "metadata": {
    "tags": []
   },
   "outputs": [
    {
     "name": "stdout",
     "output_type": "stream",
     "text": [
      "[256, 1, 517, 519, 777, 1549, 270, 271, 1053, 1055, 2335, 803, 804, 1578, 2346, 1073, 2104, 568, 64, 1097, 842, 845, 340, 343, 857, 348, 95, 1121, 103, 1129, 873, 877, 373, 1914, 892, 1918, 1921, 134, 903, 136, 137, 650, 396, 151, 409, 1178, 414, 671, 422, 937, 426, 1707, 940, 941, 1708, 1199, 1201, 2232, 187, 447, 448, 1474, 454, 202, 1743, 1495, 984, 731, 2269, 227, 747, 1517, 2287, 1521, 253, 254]\n"
     ]
    }
   ],
   "source": [
    "mutation_numbers_all = set()\n",
    "for mutation in path_var_all.split('\\n'):\n",
    "    if mutation and not any(x in mutation for x in [\"fs\", \"Ter\", \"X\", \"*\"]):\n",
    "        num = ''.join(filter(str.isdigit, mutation))\n",
    "        if num:  # Убедимся, что значение не пустое\n",
    "            mutation_numbers_all.add(int(num))\n",
    "print(list(set(mutation_numbers_all)))"
   ]
  },
  {
   "cell_type": "code",
   "execution_count": null,
   "id": "12b28c9e-b890-4b2b-9f70-b427cbcb6a02",
   "metadata": {},
   "outputs": [],
   "source": []
  }
 ],
 "metadata": {
  "kernelspec": {
   "display_name": "Python 3 (ipykernel)",
   "language": "python",
   "name": "python3"
  },
  "language_info": {
   "codemirror_mode": {
    "name": "ipython",
    "version": 3
   },
   "file_extension": ".py",
   "mimetype": "text/x-python",
   "name": "python",
   "nbconvert_exporter": "python",
   "pygments_lexer": "ipython3",
   "version": "3.7.13"
  }
 },
 "nbformat": 4,
 "nbformat_minor": 5
}
